{
 "cells": [
  {
   "cell_type": "code",
   "execution_count": 14,
   "metadata": {
    "ExecuteTime": {
     "end_time": "2020-04-14T04:41:30.322326Z",
     "start_time": "2020-04-14T04:41:30.300849Z"
    }
   },
   "outputs": [
    {
     "name": "stdout",
     "output_type": "stream",
     "text": [
      "Pretty printing has been turned OFF\n"
     ]
    }
   ],
   "source": [
    "%config ZMQInteractiveShell.ast_node_interactivity = \"all\"\n",
    "%pprint"
   ]
  },
  {
   "cell_type": "markdown",
   "metadata": {},
   "source": [
    "## 朴素贝叶斯的连续值处理"
   ]
  },
  {
   "cell_type": "markdown",
   "metadata": {},
   "source": [
    "对于连续变量，往往不能采用离散变量的方法计算概率\n",
    "1. 当数据量充足时，可以将连续变量离散化，即分成区间来计算\n",
    "2. 当数据量太少时，则无法分成区间计算，此时可以假设连续变量服从某一分布（根据大数定律，通常为正态分布）。通过样本计算出均值和方差可以得到密度函数，从密度函数就可以计算某一点的密度函数的值。（求连续型随机变量在某一取值点的概率时，可以看成该点的密度函数取值越大，概率越大。但是这一密度函数的值不和概率相等---连续变量在某一点的概率为0，只可以比大小用）"
   ]
  },
  {
   "cell_type": "markdown",
   "metadata": {
    "ExecuteTime": {
     "end_time": "2020-04-12T14:37:11.238766Z",
     "start_time": "2020-04-12T14:37:11.231316Z"
    }
   },
   "source": [
    "概率密度例子：\n",
    "\n",
    "ID|height(cm)|weight(kg)|shoe_size|gender\n",
    ":-:|:-:|:-:|:-:|:-:\n",
    "1|183|82|45|男\n",
    "2|178|77|43|男\n",
    "3|172|70|42|男\n",
    "4|168|65|41|男\n",
    "5|160|50|37|女\n",
    "6|156|44|36|女\n",
    "7|163|54|38|女\n",
    "8|158|48|35|女"
   ]
  },
  {
   "cell_type": "markdown",
   "metadata": {
    "ExecuteTime": {
     "end_time": "2020-04-12T14:41:41.766635Z",
     "start_time": "2020-04-12T14:41:41.762931Z"
    }
   },
   "source": [
    "现在有一个新样本，身高为170，体重为60，鞋码为41，该人是男or女？"
   ]
  },
  {
   "cell_type": "markdown",
   "metadata": {},
   "source": [
    "思路：\n",
    "1. 把身高/体重/鞋码看成连续变量\n",
    "    - 在这里把鞋码看成离散变量显然是不妥的---因为样本量太少了，将其看成连续变量求其分布更为恰当（尽管可能是有偏的）\n",
    "2. 其实就是计算概率：\n",
    "\\begin{cases}\n",
    "p1 = p(Y = male)p(X = height|Y = male)p(X = weight|Y= male)p(X = shoe\\_size|Y = male)\\\\\n",
    "p2 = p(Y = female)p(X = height|Y = female)p(X = weight|Y= female)p(X = shoe\\_size|Y = female)\n",
    "\\end{cases}\n",
    "    - 当p1 > p2时，该人为男；当p2 > p1，该人为女\n",
    "3. 对于男女的概率，根据国家统计局数据，2020年总人口性别比为104.45(女性为100)\n",
    "4. 对于身高/体重/鞋码，先分别求其均值和标准差，再求新样本各特征的概率密度值"
   ]
  },
  {
   "cell_type": "code",
   "execution_count": 176,
   "metadata": {
    "ExecuteTime": {
     "end_time": "2020-04-13T03:25:06.829450Z",
     "start_time": "2020-04-13T03:25:06.814395Z"
    }
   },
   "outputs": [
    {
     "name": "stdout",
     "output_type": "stream",
     "text": [
      "男生的身高均值为175.250000, 标准差为5.717298, 女生的身高均值为159.250000, 标准差为2.586020\n",
      "男生的体重均值为73.500000, 标准差为6.500000, 女生的体重均值为49.000000, 标准差为3.605551\n",
      "男生的鞋码均值为42.500000, 标准差为1.802776, 女生的鞋码均值为36.500000, 标准差为36.500000\n"
     ]
    }
   ],
   "source": [
    "import numpy as np\n",
    "from scipy import stats as st\n",
    "\n",
    "# 身高/体重/鞋码\n",
    "height = np.array([183, 178, 172, 168, 160, 156, 163, 158])\n",
    "weight = np.array([82, 77, 70, 65, 50, 44, 54, 48])\n",
    "shoe_size = np.array([45, 43, 42, 40, 37, 36, 38, 35])\n",
    "\n",
    "# 身高均值/标准差\n",
    "male_height_mean = height[:4].mean()\n",
    "male_height_std = height[:4].std()\n",
    "female_height_mean = height[-4:].mean()\n",
    "female_height_std = height[-4:].std()\n",
    "print(\"男生的身高均值为%f, 标准差为%f, 女生的身高均值为%f, 标准差为%f\" \\\n",
    "     %(male_height_mean, male_height_std, female_height_mean, female_height_std))\n",
    "\n",
    "# 体重的均值/标准差\n",
    "male_weight_mean = weight[:4].mean()\n",
    "male_weight_std = weight[:4].std()\n",
    "female_weight_mean = weight[-4:].mean()\n",
    "female_weight_std = weight[-4:].std()\n",
    "print(\"男生的体重均值为%f, 标准差为%f, 女生的体重均值为%f, 标准差为%f\" \\\n",
    "     %(male_weight_mean, male_weight_std, female_weight_mean, female_weight_std))\n",
    "\n",
    "# 鞋码均值/标准差\n",
    "male_shoe_mean = shoe_size[:4].mean()\n",
    "male_shoe_std = shoe_size[:4].std()\n",
    "female_shoe_mean = shoe_size[-4:].mean()\n",
    "female_shoe_std = shoe_size[-4:].mean()\n",
    "print(\"男生的鞋码均值为%f, 标准差为%f, 女生的鞋码均值为%f, 标准差为%f\" \\\n",
    "     %(male_shoe_mean, male_shoe_std, female_shoe_mean, female_shoe_std))"
   ]
  },
  {
   "cell_type": "code",
   "execution_count": 177,
   "metadata": {
    "ExecuteTime": {
     "end_time": "2020-04-13T03:25:07.801578Z",
     "start_time": "2020-04-13T03:25:07.789567Z"
    }
   },
   "outputs": [
    {
     "name": "stdout",
     "output_type": "stream",
     "text": [
      "p1 = 2.599461e-05, p2 = 1.525530e-10, 该人为男\n"
     ]
    }
   ],
   "source": [
    "# 男女概率\n",
    "p_male, p_female = 104.45/(104.45 + 100), 100/(104.45 + 100)\n",
    "\n",
    "# 男的身高/体重/鞋码的条件概率\n",
    "p_male_height = st.norm.pdf(x = 170, loc = male_height_mean, scale = male_height_std)\n",
    "p_male_weight = st.norm.pdf(x = 60, loc = male_weight_mean, scale = male_weight_std)\n",
    "p_male_shoe_size = st.norm.pdf(x = 41, loc = male_shoe_mean, scale = male_shoe_std)\n",
    "\n",
    "# 女的身高/体重/鞋码的条件概率\n",
    "p_female_height = st.norm.pdf(x = 170, loc = female_height_mean, scale = female_height_std)\n",
    "p_female_weight = st.norm.pdf(x = 60, loc = female_weight_mean, scale = female_weight_std)\n",
    "p_female_shoe_size = st.norm.pdf(x = 41, loc = female_shoe_mean, scale = female_shoe_std)\n",
    "\n",
    "# p1\n",
    "p1 = p_male * p_male_height * p_male_weight * p_male_shoe_size\n",
    "p2 = p_female * p_female_height * p_female_weight * p_female_shoe_size\n",
    "\n",
    "if p1 > p2:\n",
    "    print(\"p1 = %e, p2 = %e, 该人为男\" %(p1, p2))\n",
    "else:\n",
    "    print(\"p1 = %e, p2 = %e, 该人为女\" %(p1, p2))"
   ]
  },
  {
   "cell_type": "code",
   "execution_count": 94,
   "metadata": {
    "ExecuteTime": {
     "end_time": "2020-04-14T05:56:31.095196Z",
     "start_time": "2020-04-14T05:56:31.076466Z"
    }
   },
   "outputs": [
    {
     "data": {
      "text/html": [
       "<div>\n",
       "<style scoped>\n",
       "    .dataframe tbody tr th:only-of-type {\n",
       "        vertical-align: middle;\n",
       "    }\n",
       "\n",
       "    .dataframe tbody tr th {\n",
       "        vertical-align: top;\n",
       "    }\n",
       "\n",
       "    .dataframe thead th {\n",
       "        text-align: right;\n",
       "    }\n",
       "</style>\n",
       "<table border=\"1\" class=\"dataframe\">\n",
       "  <thead>\n",
       "    <tr style=\"text-align: right;\">\n",
       "      <th></th>\n",
       "      <th>height</th>\n",
       "      <th>weight</th>\n",
       "      <th>shoe_size</th>\n",
       "      <th>gender</th>\n",
       "    </tr>\n",
       "  </thead>\n",
       "  <tbody>\n",
       "    <tr>\n",
       "      <td>0</td>\n",
       "      <td>183</td>\n",
       "      <td>82</td>\n",
       "      <td>45</td>\n",
       "      <td>male</td>\n",
       "    </tr>\n",
       "    <tr>\n",
       "      <td>1</td>\n",
       "      <td>178</td>\n",
       "      <td>77</td>\n",
       "      <td>43</td>\n",
       "      <td>male</td>\n",
       "    </tr>\n",
       "    <tr>\n",
       "      <td>2</td>\n",
       "      <td>172</td>\n",
       "      <td>70</td>\n",
       "      <td>42</td>\n",
       "      <td>male</td>\n",
       "    </tr>\n",
       "    <tr>\n",
       "      <td>3</td>\n",
       "      <td>168</td>\n",
       "      <td>65</td>\n",
       "      <td>40</td>\n",
       "      <td>male</td>\n",
       "    </tr>\n",
       "    <tr>\n",
       "      <td>4</td>\n",
       "      <td>160</td>\n",
       "      <td>50</td>\n",
       "      <td>37</td>\n",
       "      <td>female</td>\n",
       "    </tr>\n",
       "    <tr>\n",
       "      <td>5</td>\n",
       "      <td>156</td>\n",
       "      <td>44</td>\n",
       "      <td>36</td>\n",
       "      <td>female</td>\n",
       "    </tr>\n",
       "    <tr>\n",
       "      <td>6</td>\n",
       "      <td>163</td>\n",
       "      <td>54</td>\n",
       "      <td>38</td>\n",
       "      <td>female</td>\n",
       "    </tr>\n",
       "    <tr>\n",
       "      <td>7</td>\n",
       "      <td>158</td>\n",
       "      <td>48</td>\n",
       "      <td>35</td>\n",
       "      <td>female</td>\n",
       "    </tr>\n",
       "  </tbody>\n",
       "</table>\n",
       "</div>"
      ],
      "text/plain": [
       "   height  weight  shoe_size  gender\n",
       "0     183      82         45    male\n",
       "1     178      77         43    male\n",
       "2     172      70         42    male\n",
       "3     168      65         40    male\n",
       "4     160      50         37  female\n",
       "5     156      44         36  female\n",
       "6     163      54         38  female\n",
       "7     158      48         35  female"
      ]
     },
     "execution_count": 94,
     "metadata": {},
     "output_type": "execute_result"
    }
   ],
   "source": [
    "import pandas as pd\n",
    "\n",
    "data = pd.DataFrame({\n",
    "    \"height\":[183, 178, 172, 168, 160, 156, 163, 158],\n",
    "    \"weight\":[82, 77, 70, 65, 50, 44, 54, 48], \n",
    "    \"shoe_size\":[45, 43, 42, 40, 37, 36, 38, 35],\n",
    "    \"gender\":[\"male\", \"male\", \"male\", \"male\", \"female\", \"female\", \"female\", \"female\"]\n",
    "})\n",
    "\n",
    "data"
   ]
  },
  {
   "cell_type": "code",
   "execution_count": 126,
   "metadata": {
    "ExecuteTime": {
     "end_time": "2020-04-14T14:13:16.002642Z",
     "start_time": "2020-04-14T14:13:15.983884Z"
    }
   },
   "outputs": [],
   "source": [
    "import numpy as np\n",
    "import scipy.stats as st\n",
    "\n",
    "class Gaussian_bayes(object):\n",
    "    \"\"\"\n",
    "    功能：根据高斯（正态）分布处理贝叶斯的连续值情况\n",
    "    属性 classes：标记的类别\n",
    "    属性 classes_count：标记各类别的数量\n",
    "    属性 classes_prob：标记各类别的概率\n",
    "    属性 mu：各特征的均值构成的字典\n",
    "    属性 sigma：各特征的标准差构成的字典\n",
    "    属性 prob_array：接收新样本对应于各类别的概率值\n",
    "    \"\"\"\n",
    "    def __init__(self):\n",
    "        self.classes = np.array([])\n",
    "        self.classes_count = {}\n",
    "        self.classes_prob = {}\n",
    "        self.mu = {}\n",
    "        self.sigma = {}\n",
    "        self.prob_array = np.array([])\n",
    "        \n",
    "    def fit(self, feature, label):\n",
    "        \"\"\"\n",
    "        功能：分类器的拟合\n",
    "        参数 feature：接收特征变量的ndarray\n",
    "        参数 label：接收分类标记的ndarray\n",
    "        \"\"\"\n",
    "        label_count = np.unique(label, return_counts = True)\n",
    "        # clf为标记类别，clf_count为类别对应的数量\n",
    "        for clf, clf_count in zip(label_count[0], label_count[1]):\n",
    "            # 各类别对应的样本\n",
    "            sample_clf = feature[label == clf]\n",
    "            # 各类别样本特征的均值/标准差\n",
    "            self.mu[clf] = [sample_clf.mean(axis = 0)]\n",
    "            self.sigma[clf] = [sample_clf.std(axis = 0)]\n",
    "            # 标记类别及其对应的数量概率\n",
    "            self.classes = np.append(self.classes, clf)\n",
    "            self.classes_count[clf] = clf_count\n",
    "            self.classes_prob[clf] = clf_count / label.shape[0]\n",
    "        \n",
    "        return \"fit Gaussian_NB\"\n",
    "    \n",
    "    def predict(self, feature):\n",
    "        \"\"\"\n",
    "        功能：用于高斯贝叶斯分类器的预测\n",
    "        参数 feature：接收的是要预测的特征向量array_like(可以多个)\n",
    "        \"\"\"\n",
    "        # 接收属于各类的相对值(用于不叫大小)\n",
    "        prob_list = []\n",
    "        \n",
    "        for clf in self.classes:\n",
    "            class_feature_loc = self.mu[clf]\n",
    "            class_feature_scale = self.sigma[clf]\n",
    "            # 每一类各特征的概率密度值\n",
    "            class_feature_pdf = st.norm.pdf(x = feature, loc = class_feature_loc, \\\n",
    "                                            scale = class_feature_scale)\n",
    "            # 属于各类的相对值\n",
    "            prob_list.extend([class_feature_pdf.prod(axis = 1) * self.classes_prob[clf]])\n",
    "            \n",
    "        self.prob_array = np.array(prob_list)\n",
    "        \n",
    "        return self.classes[self.prob_array.argmax(axis = 0)]\n",
    "    \n",
    "    def get_classes(self):\n",
    "        \"\"\"\n",
    "        功能：获取类别及其数量概率\n",
    "        字典结果 元素1：类别的数量\n",
    "        字典结果 元素2：类别的概率\n",
    "        \"\"\"\n",
    "        classes_dict = {}\n",
    "        \n",
    "        for clf in self.classes:\n",
    "            classes_dict[clf] = (self.classes_count[clf], self.classes_prob[clf])\n",
    "            \n",
    "        return classes_dict\n",
    "    \n",
    "    def get_prob(self):\n",
    "        \"\"\"\n",
    "        功能：获取各类的概率\n",
    "        \"\"\"\n",
    "        prob_dict = {}\n",
    "        prob_zip = zip(self.classes, self.prob_array)\n",
    "        \n",
    "        for clf, prob in prob_zip:\n",
    "            prob_dict[clf] = prob\n",
    "            \n",
    "        return prob_dict\n",
    "    \n",
    "    def score(self, x_test, y_test):\n",
    "        \"\"\"\n",
    "        功能:计算分类器的分类精度\n",
    "        参数 x_test:测试样本\n",
    "        参数 y_test:测试样本对应的标记\n",
    "        \"\"\"\n",
    "        # 分类器的预测结果\n",
    "        label = self.predict(x_test) \n",
    "        # 分类正确的数量\n",
    "        right_count = (label == y_test).sum()\n",
    "        # 分类器的精度\n",
    "        acc = right_count/len(y_test)\n",
    "        \n",
    "        return acc"
   ]
  },
  {
   "cell_type": "code",
   "execution_count": 124,
   "metadata": {
    "ExecuteTime": {
     "end_time": "2020-04-14T14:11:32.257634Z",
     "start_time": "2020-04-14T14:11:32.231176Z"
    }
   },
   "outputs": [
    {
     "data": {
      "text/plain": [
       "'fit Gaussian_NB'"
      ]
     },
     "execution_count": 124,
     "metadata": {},
     "output_type": "execute_result"
    },
    {
     "data": {
      "text/plain": [
       "array(['male', 'male', 'female'], dtype='<U32')"
      ]
     },
     "execution_count": 124,
     "metadata": {},
     "output_type": "execute_result"
    },
    {
     "data": {
      "text/plain": [
       "{'female': (4, 0.5), 'male': (4, 0.5)}"
      ]
     },
     "execution_count": 124,
     "metadata": {},
     "output_type": "execute_result"
    },
    {
     "name": "stdout",
     "output_type": "stream",
     "text": [
      "女生的概率为：1.557152e-12，男生的概率为：2.544087e-05\n",
      "女生的概率为：1.124836e-08，男生的概率为：2.162160e-06\n",
      "女生的概率为：4.782450e-04，男生的概率为：5.249299e-13\n",
      "\n",
      "\n",
      "女生修正后的概率为:1.523260e-12, 男生修正后的概率为:2.599461e-05\n",
      "女生修正后的概率为:1.100353e-08, 男生修正后的概率为:2.209221e-06\n",
      "女生修正后的概率为:4.678357e-04, 男生修正后的概率为:5.363554e-13\n"
     ]
    }
   ],
   "source": [
    "# 生成分类器\n",
    "clf = Gaussian_bayes()\n",
    "\n",
    "# 生成训练样本数据和标记数据\n",
    "x = np.array(data.iloc[:, :3])\n",
    "y = np.array(data.iloc[:, -1])\n",
    "\n",
    "# 分类器拟合\n",
    "clf.fit(x, y)\n",
    "# 分类器预测\n",
    "clf.predict([[170, 60, 41],[168, 56, 40], [156, 44, 37]])\n",
    "# 获取类别,数量即其概率\n",
    "clf.get_classes()\n",
    "# 获取分类概率\n",
    "prob = clf.get_prob()\n",
    "prob_zip = zip(prob[\"female\"], prob[\"male\"])\n",
    "for female, male in prob_zip:\n",
    "    print(\"女生的概率为：%e，男生的概率为：%e\" %(female, male))\n",
    "\n",
    "# 概率修正，使用统计局的男女概率\n",
    "female_prob = prob[\"female\"] / 0.5 * (100/204.45)\n",
    "male_prob = prob[\"male\"] / 0.5 * (104.45/204.45)\n",
    "prob_zip = zip(female_prob, male_prob)\n",
    "print(\"\\n\")\n",
    "for female, male in prob_zip:\n",
    "    print(\"女生修正后的概率为:%e, 男生修正后的概率为:%e\" %(female, male))"
   ]
  },
  {
   "cell_type": "code",
   "execution_count": 98,
   "metadata": {
    "ExecuteTime": {
     "end_time": "2020-04-14T13:56:45.893771Z",
     "start_time": "2020-04-14T13:56:45.889342Z"
    }
   },
   "outputs": [],
   "source": [
    "from sklearn.datasets import load_iris\n",
    "from sklearn.model_selection import train_test_split\n",
    "from sklearn.naive_bayes import GaussianNB "
   ]
  },
  {
   "cell_type": "code",
   "execution_count": 140,
   "metadata": {
    "ExecuteTime": {
     "end_time": "2020-04-14T14:19:24.369302Z",
     "start_time": "2020-04-14T14:19:24.336700Z"
    }
   },
   "outputs": [
    {
     "data": {
      "text/plain": [
       "'fit Gaussian_NB'"
      ]
     },
     "execution_count": 140,
     "metadata": {},
     "output_type": "execute_result"
    },
    {
     "name": "stdout",
     "output_type": "stream",
     "text": [
      "[1. 0. 0. 1. 1. 1. 1. 1. 0. 2. 2. 1. 1. 0. 1. 2. 1. 1. 2. 0. 0. 1. 0. 2.\n",
      " 0. 2. 1. 0. 2. 0. 1. 2. 1. 1. 0. 2. 1. 2.]\n",
      "[2 0 0 1 1 1 1 1 0 2 2 1 1 0 1 1 1 1 2 0 0 1 0 2 0 2 1 0 2 0 1 2 1 1 0 2 1\n",
      " 2]\n"
     ]
    },
    {
     "data": {
      "text/plain": [
       "0.9473684210526315"
      ]
     },
     "execution_count": 140,
     "metadata": {},
     "output_type": "execute_result"
    },
    {
     "data": {
      "text/plain": [
       "'fit Gaussian_NB'"
      ]
     },
     "execution_count": 140,
     "metadata": {},
     "output_type": "execute_result"
    },
    {
     "data": {
      "text/plain": [
       "0.9473684210526315"
      ]
     },
     "execution_count": 140,
     "metadata": {},
     "output_type": "execute_result"
    }
   ],
   "source": [
    "# 莺尾花数据集\n",
    "iris = load_iris()\n",
    "iris_data = iris[\"data\"]\n",
    "iris_label = iris['target']\n",
    "\n",
    "# 数据集划分\n",
    "x_train, x_test, y_train, y_test = train_test_split(iris_data, iris_label)\n",
    "\n",
    "# 自定义分类器生成/拟合/预测/得分\n",
    "clf1 = Gaussian_bayes()\n",
    "clf1.fit(x_train, y_train)\n",
    "print(clf1.predict(x_test))\n",
    "print(y_test)\n",
    "clf1.score(x_test, y_test)\n",
    "\n",
    "# sklearn的分类器生成\n",
    "clf2 = GaussianNB()\n",
    "clf1.fit(x_train, y_train)\n",
    "clf1.score(x_test, y_test)"
   ]
  },
  {
   "cell_type": "code",
   "execution_count": 193,
   "metadata": {
    "ExecuteTime": {
     "end_time": "2020-04-14T15:11:21.057163Z",
     "start_time": "2020-04-14T15:11:21.047159Z"
    }
   },
   "outputs": [
    {
     "data": {
      "text/plain": [
       "'fit Gaussian_NB'"
      ]
     },
     "execution_count": 193,
     "metadata": {},
     "output_type": "execute_result"
    },
    {
     "data": {
      "text/plain": [
       "0.7894736842105263"
      ]
     },
     "execution_count": 193,
     "metadata": {},
     "output_type": "execute_result"
    }
   ],
   "source": [
    "# 分类器3,只使用第1和2列特征---为了方便画图\n",
    "clf3 = Gaussian_bayes()\n",
    "clf3.fit(x_train[:, :2], y_train)\n",
    "clf3.score(x_test[:, :2], y_test)"
   ]
  },
  {
   "cell_type": "code",
   "execution_count": 237,
   "metadata": {
    "ExecuteTime": {
     "end_time": "2020-04-14T15:42:51.536738Z",
     "start_time": "2020-04-14T15:42:50.718906Z"
    }
   },
   "outputs": [
    {
     "data": {
      "text/plain": [
       "<matplotlib.collections.PathCollection object at 0x7f7eba600c10>"
      ]
     },
     "execution_count": 237,
     "metadata": {},
     "output_type": "execute_result"
    },
    {
     "data": {
      "text/plain": [
       "<matplotlib.collections.PathCollection object at 0x7f7eba5c01d0>"
      ]
     },
     "execution_count": 237,
     "metadata": {},
     "output_type": "execute_result"
    },
    {
     "data": {
      "text/plain": [
       "<matplotlib.collections.PathCollection object at 0x7f7eba5c0210>"
      ]
     },
     "execution_count": 237,
     "metadata": {},
     "output_type": "execute_result"
    },
    {
     "data": {
      "text/plain": [
       "<matplotlib.legend.Legend object at 0x7f7eba5c0d10>"
      ]
     },
     "execution_count": 237,
     "metadata": {},
     "output_type": "execute_result"
    },
    {
     "data": {
      "text/plain": [
       "<matplotlib.contour.QuadContourSet object at 0x7f7eba5c8990>"
      ]
     },
     "execution_count": 237,
     "metadata": {},
     "output_type": "execute_result"
    },
    {
     "data": {
      "text/plain": [
       "(4.0, 8.0)"
      ]
     },
     "execution_count": 237,
     "metadata": {},
     "output_type": "execute_result"
    },
    {
     "data": {
      "text/plain": [
       "(2.0, 4.0)"
      ]
     },
     "execution_count": 237,
     "metadata": {},
     "output_type": "execute_result"
    },
    {
     "data": {
      "image/png": "[encoded data removed]",
      "text/plain": [
       "<Figure size 432x288 with 1 Axes>"
      ]
     },
     "metadata": {
      "needs_background": "light"
     },
     "output_type": "display_data"
    }
   ],
   "source": [
    "import matplotlib.pyplot as plt\n",
    "\n",
    "x = x_test[:, :2]\n",
    "plt.scatter(x[y_test == 0][:, 0], x[y_test == 0][:, 1], color = 'red', label = '0')\n",
    "plt.scatter(x[y_test == 1][:, 0], x[y_test == 1][:, 1], color = 'green', label = '1')\n",
    "plt.scatter(x[y_test == 2][:, 0], x[y_test == 2][:, 1], color = 'blue', label = '2')\n",
    "plt.legend()\n",
    "\n",
    "x_min = x[:, 0].min()\n",
    "x_max = x[:, 0].max()\n",
    "y_min = x[:, 1].min()\n",
    "y_max = x[:, 1].max()\n",
    "\n",
    "x = np.linspace(np.floor(x_min), np.ceil(x_max), 1000)\n",
    "y = np.linspace(np.floor(y_min), np.ceil(y_max), 1000)\n",
    "xx1, xx2 = np.meshgrid(x, y)\n",
    "z = clf3.predict(np.array([xx1.ravel(), xx2.ravel()]).T)\n",
    "z = z.reshape(xx1.shape)\n",
    "plt.contourf(xx1, xx2, z, alpha=0.4, cmap = plt.cm.Spectral)\n",
    "plt.xlim(xx1.min(), xx1.max())\n",
    "plt.ylim(xx2.min(), xx2.max())\n",
    "\n",
    "# plt.scatter(x_test[:, 0], x_test[:, 1], c = y_test.reshape(-1), cmap = plt.cm.seismic)"
   ]
  }
 ],
 "metadata": {
  "kernelspec": {
   "display_name": "Python 3",
   "language": "python",
   "name": "python3"
  },
  "language_info": {
   "codemirror_mode": {
    "name": "ipython",
    "version": 3
   },
   "file_extension": ".py",
   "mimetype": "text/x-python",
   "name": "python",
   "nbconvert_exporter": "python",
   "pygments_lexer": "ipython3",
   "version": "3.7.4"
  },
  "toc": {
   "base_numbering": 1,
   "nav_menu": {},
   "number_sections": true,
   "sideBar": true,
   "skip_h1_title": false,
   "title_cell": "Table of Contents",
   "title_sidebar": "Contents",
   "toc_cell": false,
   "toc_position": {},
   "toc_section_display": true,
   "toc_window_display": false
  }
 },
 "nbformat": 4,
 "nbformat_minor": 2
}

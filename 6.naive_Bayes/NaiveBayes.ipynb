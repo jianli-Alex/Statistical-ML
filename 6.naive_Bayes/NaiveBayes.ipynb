{
 "cells": [
  {
   "cell_type": "code",
   "execution_count": 191,
   "metadata": {
    "ExecuteTime": {
     "end_time": "2020-04-14T11:17:01.309668Z",
     "start_time": "2020-04-14T11:17:01.291833Z"
    }
   },
   "outputs": [
    {
     "name": "stdout",
     "output_type": "stream",
     "text": [
      "Pretty printing has been turned OFF\n"
     ]
    }
   ],
   "source": [
    "%config ZMQInteractiveShell.ast_node_interactivity = \"all\"\n",
    "%pprint"
   ]
  },
  {
   "cell_type": "code",
   "execution_count": 280,
   "metadata": {
    "ExecuteTime": {
     "end_time": "2020-04-14T14:20:36.877754Z",
     "start_time": "2020-04-14T14:20:36.860482Z"
    }
   },
   "outputs": [],
   "source": [
    "import numpy as np\n",
    "import pandas as pd\n",
    "\n",
    "class NaiveBayes(object):\n",
    "    \"\"\"\n",
    "    功能：实现多项式朴素贝叶斯（用于处理离散数据）\n",
    "    属性 classes：标记的分类\n",
    "    属性 classes_count：标记中各分类的数量\n",
    "    属性 classes_prob：标记中各分类的概率\n",
    "    属性 fea_clf：各特征的分类\n",
    "    属性 fea_clf_count：在各标记中各特征每个分类的数量\n",
    "    属性 fea_clf_prob：在各标记中各特征每个分类的概率\n",
    "    \"\"\"\n",
    "    def __init__(self):\n",
    "        self.classes = np.array([])\n",
    "        self.classes_count = {}\n",
    "        self.classes_prob = {}\n",
    "        self.fea_clf = []\n",
    "        self.fea_clf_count = {}\n",
    "        self.fea_clf_prob = {}\n",
    "        self.prob_array = np.array([])\n",
    "        \n",
    "    def fit(self, feature, label, smooth = 1):\n",
    "        \"\"\"\n",
    "        功能：实现多项式朴素贝叶斯的拟合\n",
    "        参数 feature：训练数据的特征数据\n",
    "        参数 label：训练数据的标记数据\n",
    "        参数 smooth:平滑项,默认取值为1(拉普拉斯平滑)\n",
    "        \"\"\"\n",
    "        # 各特征的去重\n",
    "        self.fea_clf = list(map(lambda x: list(np.unique(x)), feature.T))\n",
    "        # 标记的去重和计数\n",
    "        label_count = np.unique(label, return_counts = True)\n",
    "        # clf为标记类别,clf_count为对应的类别数\n",
    "        for clf, clf_count in zip(label_count[0], label_count[1]):\n",
    "            # 标记的类别/数量/概率(加平滑)\n",
    "            self.classes = np.append(self.classes, clf)\n",
    "            self.classes_count[clf] = clf_count\n",
    "            self.classes_prob[clf] = (clf_count + smooth) / \\\n",
    "                                    (label.shape[0] + len(label_count[0]) * smooth)\n",
    "            \n",
    "            # 每一个类别对应的样本\n",
    "            sample_clf = feature[label == clf] \n",
    "            # 每一类别下各特征(fea1, fea2, ...)的可能取值和频数\n",
    "            # 元素形式为(fea1_value_list, fea1_count_list)\n",
    "            sample_feature = map(lambda x: np.unique(x, return_counts = True), \\\n",
    "                                sample_clf.T)\n",
    "            # 将所有特征的可能取值汇总保存到列表,每一个元素的形式为(fea_value, fea_count)\n",
    "            sample_fea_list = []\n",
    "            for sample_fea, sample_fea_count in sample_feature:\n",
    "                sample_fea_list.extend(list(zip(sample_fea, sample_fea_count)))\n",
    "            \n",
    "            # 将特征可能取值和数量保存成字典\n",
    "            self.fea_clf_count[clf] = dict(sample_fea_list)\n",
    "            self.fea_clf_prob[clf] = self.fea_clf_count[clf].copy()\n",
    "            \n",
    "            # 修正特征的数量/概率字典\n",
    "            # features为特征\n",
    "            for features in self.fea_clf:\n",
    "                # feature_clf为每一特征的可能取值\n",
    "                for feature_clf in features:\n",
    "                    # 填补在每一类别中未出现的特征\n",
    "                    self.fea_clf_count[clf].setdefault(feature_clf, 0);\n",
    "                    self.fea_clf_prob[clf].setdefault(feature_clf, 0);\n",
    "                    # 特征概率字典修正+平滑条件\n",
    "                    self.fea_clf_prob[clf][feature_clf] = (self.fea_clf_count[clf][feature_clf] \\\n",
    "                                                           + smooth)/(sample_clf.shape[0] + \\\n",
    "                                                                      len(features) * smooth)\n",
    "                    \n",
    "        return \"fit NavieByes\"\n",
    "    \n",
    "    def predict(self, fea_array):\n",
    "        \"\"\"\n",
    "        功能:多项式贝叶斯分类器的预测\n",
    "        参数 feature:接收的是一个或多个特征向量(array_like),形式为[[fea1],...]\n",
    "                    只有一个特征向量时,传入形式为[[fea]]\n",
    "        \"\"\"\n",
    "        prob_clf_list = []\n",
    "        \n",
    "        for clf in self.classes:\n",
    "            prob = 1\n",
    "            prob_list = []\n",
    "            for feature in fea_array:\n",
    "                for fea_value in feature:\n",
    "                    prob *= self.fea_clf_prob[clf][fea_value]\n",
    "                prob *= self.classes_prob[clf]\n",
    "                prob_list.append(prob)\n",
    "            prob_clf_list.append(prob_list)\n",
    "        \n",
    "        self.prob_array = np.array(prob_clf_list)\n",
    "        \n",
    "        return self.classes[self.prob_array.argmax(axis = 0)]\n",
    "    \n",
    "\n",
    "    def get_classes(self):\n",
    "        \"\"\"\n",
    "        功能:获取类别及其数量概率\n",
    "        字典结果 元素1：类别的数量\n",
    "        字典结果 元素2：类别的概率\n",
    "        \"\"\"\n",
    "        classes_dict = {}\n",
    "        \n",
    "        for clf in self.classes:\n",
    "            classes_dict[clf] = (self.classes_count[clf], self.classes_prob[clf])\n",
    "            \n",
    "        return classes_dict\n",
    "    \n",
    "    def get_prob(self):\n",
    "        \"\"\"\n",
    "        功能：获取各类的概率\n",
    "        \"\"\"\n",
    "        prob_dict = {}\n",
    "        prob_zip = zip(self.classes, self.prob_array)\n",
    "        \n",
    "        for clf, prob in prob_zip:\n",
    "            prob_dict[clf] = prob\n",
    "            \n",
    "        return prob_dict\n",
    "    \n",
    "    def score(self, x_test, y_test):\n",
    "        \"\"\"\n",
    "        功能:计算分类器的分类精度\n",
    "        参数 x_test:测试样本\n",
    "        参数 y_test:测试样本对应的标记\n",
    "        \"\"\"\n",
    "        # 分类器的预测结果\n",
    "        label = self.predict(x_test) \n",
    "        # 分类正确的数量\n",
    "        right_count = (label == y_test).sum()\n",
    "        # 分类器的精度\n",
    "        acc = right_count/len(y_test)\n",
    "        \n",
    "        return acc"
   ]
  },
  {
   "cell_type": "code",
   "execution_count": 276,
   "metadata": {
    "ExecuteTime": {
     "end_time": "2020-04-14T13:40:24.581232Z",
     "start_time": "2020-04-14T13:40:24.563838Z"
    }
   },
   "outputs": [
    {
     "data": {
      "text/html": [
       "<div>\n",
       "<style scoped>\n",
       "    .dataframe tbody tr th:only-of-type {\n",
       "        vertical-align: middle;\n",
       "    }\n",
       "\n",
       "    .dataframe tbody tr th {\n",
       "        vertical-align: top;\n",
       "    }\n",
       "\n",
       "    .dataframe thead th {\n",
       "        text-align: right;\n",
       "    }\n",
       "</style>\n",
       "<table border=\"1\" class=\"dataframe\">\n",
       "  <thead>\n",
       "    <tr style=\"text-align: right;\">\n",
       "      <th></th>\n",
       "      <th>x1</th>\n",
       "      <th>x2</th>\n",
       "      <th>Y</th>\n",
       "    </tr>\n",
       "  </thead>\n",
       "  <tbody>\n",
       "    <tr>\n",
       "      <td>0</td>\n",
       "      <td>1</td>\n",
       "      <td>S</td>\n",
       "      <td>-1</td>\n",
       "    </tr>\n",
       "    <tr>\n",
       "      <td>1</td>\n",
       "      <td>1</td>\n",
       "      <td>M</td>\n",
       "      <td>-1</td>\n",
       "    </tr>\n",
       "    <tr>\n",
       "      <td>2</td>\n",
       "      <td>1</td>\n",
       "      <td>M</td>\n",
       "      <td>1</td>\n",
       "    </tr>\n",
       "    <tr>\n",
       "      <td>3</td>\n",
       "      <td>1</td>\n",
       "      <td>S</td>\n",
       "      <td>1</td>\n",
       "    </tr>\n",
       "    <tr>\n",
       "      <td>4</td>\n",
       "      <td>1</td>\n",
       "      <td>S</td>\n",
       "      <td>-1</td>\n",
       "    </tr>\n",
       "    <tr>\n",
       "      <td>5</td>\n",
       "      <td>2</td>\n",
       "      <td>S</td>\n",
       "      <td>-1</td>\n",
       "    </tr>\n",
       "    <tr>\n",
       "      <td>6</td>\n",
       "      <td>2</td>\n",
       "      <td>M</td>\n",
       "      <td>-1</td>\n",
       "    </tr>\n",
       "    <tr>\n",
       "      <td>7</td>\n",
       "      <td>2</td>\n",
       "      <td>M</td>\n",
       "      <td>1</td>\n",
       "    </tr>\n",
       "    <tr>\n",
       "      <td>8</td>\n",
       "      <td>2</td>\n",
       "      <td>L</td>\n",
       "      <td>1</td>\n",
       "    </tr>\n",
       "    <tr>\n",
       "      <td>9</td>\n",
       "      <td>2</td>\n",
       "      <td>L</td>\n",
       "      <td>1</td>\n",
       "    </tr>\n",
       "    <tr>\n",
       "      <td>10</td>\n",
       "      <td>3</td>\n",
       "      <td>L</td>\n",
       "      <td>1</td>\n",
       "    </tr>\n",
       "    <tr>\n",
       "      <td>11</td>\n",
       "      <td>3</td>\n",
       "      <td>M</td>\n",
       "      <td>1</td>\n",
       "    </tr>\n",
       "    <tr>\n",
       "      <td>12</td>\n",
       "      <td>3</td>\n",
       "      <td>M</td>\n",
       "      <td>1</td>\n",
       "    </tr>\n",
       "    <tr>\n",
       "      <td>13</td>\n",
       "      <td>3</td>\n",
       "      <td>L</td>\n",
       "      <td>1</td>\n",
       "    </tr>\n",
       "    <tr>\n",
       "      <td>14</td>\n",
       "      <td>3</td>\n",
       "      <td>L</td>\n",
       "      <td>-1</td>\n",
       "    </tr>\n",
       "  </tbody>\n",
       "</table>\n",
       "</div>"
      ],
      "text/plain": [
       "    x1 x2  Y\n",
       "0    1  S -1\n",
       "1    1  M -1\n",
       "2    1  M  1\n",
       "3    1  S  1\n",
       "4    1  S -1\n",
       "5    2  S -1\n",
       "6    2  M -1\n",
       "7    2  M  1\n",
       "8    2  L  1\n",
       "9    2  L  1\n",
       "10   3  L  1\n",
       "11   3  M  1\n",
       "12   3  M  1\n",
       "13   3  L  1\n",
       "14   3  L -1"
      ]
     },
     "execution_count": 276,
     "metadata": {},
     "output_type": "execute_result"
    }
   ],
   "source": [
    "import pandas as pd\n",
    "import numpy as np\n",
    "\n",
    "data = pd.DataFrame({\n",
    "    \"x1\":[1, 1, 1, 1, 1, 2, 2, 2, 2, 2, 3, 3, 3, 3, 3],\n",
    "    \"x2\":['S', 'M', 'M', 'S', 'S', 'S', 'M', 'M', 'L', 'L', 'L', 'M', 'M', 'L', 'L'],\n",
    "    \"Y\":[-1, -1, 1, 1, -1, -1, -1, 1, 1, 1, 1, 1, 1, 1, -1]\n",
    "})\n",
    "\n",
    "data"
   ]
  },
  {
   "cell_type": "code",
   "execution_count": 285,
   "metadata": {
    "ExecuteTime": {
     "end_time": "2020-04-14T14:25:02.367912Z",
     "start_time": "2020-04-14T14:25:02.340461Z"
    }
   },
   "outputs": [
    {
     "data": {
      "text/plain": [
       "'fit NavieByes'"
      ]
     },
     "execution_count": 285,
     "metadata": {},
     "output_type": "execute_result"
    },
    {
     "data": {
      "text/plain": [
       "array([-1.,  1.])"
      ]
     },
     "execution_count": 285,
     "metadata": {},
     "output_type": "execute_result"
    },
    {
     "data": {
      "text/plain": [
       "1.0"
      ]
     },
     "execution_count": 285,
     "metadata": {},
     "output_type": "execute_result"
    },
    {
     "data": {
      "text/plain": [
       "{-1.0: (6, 0.4117647058823529), 1.0: (9, 0.5882352941176471)}"
      ]
     },
     "execution_count": 285,
     "metadata": {},
     "output_type": "execute_result"
    },
    {
     "name": "stdout",
     "output_type": "stream",
     "text": [
      "实例1属于类别-1为:6.100218e-02,属于类别1为:3.267974e-02\n"
     ]
    }
   ],
   "source": [
    "# 分类器的生成\n",
    "clf = NaiveBayes()\n",
    "\n",
    "# 训练集的特征和标记数据\n",
    "x = np.array(data.iloc[:, :2])\n",
    "y = np.array(data.iloc[:, -1])\n",
    "\n",
    "# 分类器的拟合(平滑项默认为1)\n",
    "clf.fit(x, y)\n",
    "# 分类器的预测\n",
    "clf.predict([[2, 'S'], [3, 'M']])\n",
    "clf.score([[2, 'S']], [-1])\n",
    "\n",
    "# 获取标记数据的类别和对应的数量/概率\n",
    "clf.get_classes()\n",
    "# 获取实例属于各类器的相对大小\n",
    "prob = clf.get_prob()\n",
    "prob_zip = zip(prob[-1.0], prob[1.0])\n",
    "count = 0\n",
    "for a, b in prob_zip:\n",
    "    count += 1\n",
    "    print(\"实例%d属于类别-1为:%e,属于类别1为:%e\" %(count, a, b))\n",
    "    "
   ]
  }
 ],
 "metadata": {
  "kernelspec": {
   "display_name": "Python 3",
   "language": "python",
   "name": "python3"
  },
  "language_info": {
   "codemirror_mode": {
    "name": "ipython",
    "version": 3
   },
   "file_extension": ".py",
   "mimetype": "text/x-python",
   "name": "python",
   "nbconvert_exporter": "python",
   "pygments_lexer": "ipython3",
   "version": "3.7.4"
  },
  "toc": {
   "base_numbering": 1,
   "nav_menu": {},
   "number_sections": true,
   "sideBar": true,
   "skip_h1_title": false,
   "title_cell": "Table of Contents",
   "title_sidebar": "Contents",
   "toc_cell": false,
   "toc_position": {},
   "toc_section_display": true,
   "toc_window_display": false
  }
 },
 "nbformat": 4,
 "nbformat_minor": 2
}

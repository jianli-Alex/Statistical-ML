{
 "cells": [
  {
   "cell_type": "code",
   "execution_count": 36,
   "metadata": {
    "ExecuteTime": {
     "end_time": "2020-04-09T09:26:40.040007Z",
     "start_time": "2020-04-09T09:26:40.015Z"
    }
   },
   "outputs": [
    {
     "data": {
      "text/html": [
       "1"
      ],
      "text/latex": [
       "1"
      ],
      "text/markdown": [
       "1"
      ],
      "text/plain": [
       "[1] 1"
      ]
     },
     "metadata": {},
     "output_type": "display_data"
    }
   ],
   "source": [
    "# 查看是否安装“arules”\n",
    "# 已安装\n",
    "which(installed.packages() == \"arules\")"
   ]
  },
  {
   "cell_type": "code",
   "execution_count": 42,
   "metadata": {
    "ExecuteTime": {
     "end_time": "2020-04-09T09:30:36.614969Z",
     "start_time": "2020-04-09T09:30:36.480Z"
    }
   },
   "outputs": [],
   "source": [
    "# 查看GoodsOrder数据集\n",
    "file.show(\"../input/data/task/GoodsOrder.csv\")"
   ]
  },
  {
   "cell_type": "code",
   "execution_count": 41,
   "metadata": {
    "ExecuteTime": {
     "end_time": "2020-04-09T09:29:24.467938Z",
     "start_time": "2020-04-09T09:29:24.444Z"
    }
   },
   "outputs": [],
   "source": [
    "# 查看Goodtype数据集\n",
    "file.show(\"../input/data/task/GoodsTypes.csv\", encoding = \"gb2312\")"
   ]
  },
  {
   "cell_type": "code",
   "execution_count": 50,
   "metadata": {
    "ExecuteTime": {
     "end_time": "2020-04-09T09:33:52.324479Z",
     "start_time": "2020-04-09T09:33:52.155Z"
    }
   },
   "outputs": [],
   "source": [
    "help(read.csv)"
   ]
  },
  {
   "cell_type": "code",
   "execution_count": 94,
   "metadata": {
    "ExecuteTime": {
     "end_time": "2020-04-09T10:06:25.522360Z",
     "start_time": "2020-04-09T10:06:23.180Z"
    }
   },
   "outputs": [
    {
     "data": {
      "text/html": [
       "<table>\n",
       "<caption>A data.frame: 6 × 2</caption>\n",
       "<thead>\n",
       "\t<tr><th></th><th scope=col>ID</th><th scope=col>Goods</th></tr>\n",
       "\t<tr><th></th><th scope=col>&lt;int&gt;</th><th scope=col>&lt;chr&gt;</th></tr>\n",
       "</thead>\n",
       "<tbody>\n",
       "\t<tr><th scope=row>1</th><td>1</td><td>柑橘类水果</td></tr>\n",
       "\t<tr><th scope=row>2</th><td>1</td><td>人造黄油  </td></tr>\n",
       "\t<tr><th scope=row>3</th><td>1</td><td>即食汤    </td></tr>\n",
       "\t<tr><th scope=row>4</th><td>1</td><td>半成品面包</td></tr>\n",
       "\t<tr><th scope=row>5</th><td>2</td><td>咖啡      </td></tr>\n",
       "\t<tr><th scope=row>6</th><td>2</td><td>热带水果  </td></tr>\n",
       "</tbody>\n",
       "</table>\n"
      ],
      "text/latex": [
       "A data.frame: 6 × 2\n",
       "\\begin{tabular}{r|ll}\n",
       "  & ID & Goods\\\\\n",
       "  & <int> & <chr>\\\\\n",
       "\\hline\n",
       "\t1 & 1 & 柑橘类水果\\\\\n",
       "\t2 & 1 & 人造黄油  \\\\\n",
       "\t3 & 1 & 即食汤    \\\\\n",
       "\t4 & 1 & 半成品面包\\\\\n",
       "\t5 & 2 & 咖啡      \\\\\n",
       "\t6 & 2 & 热带水果  \\\\\n",
       "\\end{tabular}\n"
      ],
      "text/markdown": [
       "\n",
       "A data.frame: 6 × 2\n",
       "\n",
       "| <!--/--> | ID &lt;int&gt; | Goods &lt;chr&gt; |\n",
       "|---|---|---|\n",
       "| 1 | 1 | 柑橘类水果 |\n",
       "| 2 | 1 | 人造黄油   |\n",
       "| 3 | 1 | 即食汤     |\n",
       "| 4 | 1 | 半成品面包 |\n",
       "| 5 | 2 | 咖啡       |\n",
       "| 6 | 2 | 热带水果   |\n",
       "\n"
      ],
      "text/plain": [
       "  ID Goods     \n",
       "1 1  柑橘类水果\n",
       "2 1  人造黄油  \n",
       "3 1  即食汤    \n",
       "4 1  半成品面包\n",
       "5 2  咖啡      \n",
       "6 2  热带水果  "
      ]
     },
     "metadata": {},
     "output_type": "display_data"
    },
    {
     "data": {
      "text/html": [
       "<table>\n",
       "<caption>A data.frame: 6 × 2</caption>\n",
       "<thead>\n",
       "\t<tr><th></th><th scope=col>Goods</th><th scope=col>Types</th></tr>\n",
       "\t<tr><th></th><th scope=col>&lt;chr&gt;</th><th scope=col>&lt;chr&gt;</th></tr>\n",
       "</thead>\n",
       "<tbody>\n",
       "\t<tr><th scope=row>1</th><td>白饭      </td><td>熟食    </td></tr>\n",
       "\t<tr><th scope=row>2</th><td>白酒      </td><td>酒精饮料</td></tr>\n",
       "\t<tr><th scope=row>3</th><td>白兰地    </td><td>酒精饮料</td></tr>\n",
       "\t<tr><th scope=row>4</th><td>白面包    </td><td>西点    </td></tr>\n",
       "\t<tr><th scope=row>5</th><td>半成品面包</td><td>西点    </td></tr>\n",
       "\t<tr><th scope=row>6</th><td>包装袋    </td><td>百货    </td></tr>\n",
       "</tbody>\n",
       "</table>\n"
      ],
      "text/latex": [
       "A data.frame: 6 × 2\n",
       "\\begin{tabular}{r|ll}\n",
       "  & Goods & Types\\\\\n",
       "  & <chr> & <chr>\\\\\n",
       "\\hline\n",
       "\t1 & 白饭       & 熟食    \\\\\n",
       "\t2 & 白酒       & 酒精饮料\\\\\n",
       "\t3 & 白兰地     & 酒精饮料\\\\\n",
       "\t4 & 白面包     & 西点    \\\\\n",
       "\t5 & 半成品面包 & 西点    \\\\\n",
       "\t6 & 包装袋     & 百货    \\\\\n",
       "\\end{tabular}\n"
      ],
      "text/markdown": [
       "\n",
       "A data.frame: 6 × 2\n",
       "\n",
       "| <!--/--> | Goods &lt;chr&gt; | Types &lt;chr&gt; |\n",
       "|---|---|---|\n",
       "| 1 | 白饭       | 熟食     |\n",
       "| 2 | 白酒       | 酒精饮料 |\n",
       "| 3 | 白兰地     | 酒精饮料 |\n",
       "| 4 | 白面包     | 西点     |\n",
       "| 5 | 半成品面包 | 西点     |\n",
       "| 6 | 包装袋     | 百货     |\n",
       "\n"
      ],
      "text/plain": [
       "  Goods      Types   \n",
       "1 白饭       熟食    \n",
       "2 白酒       酒精饮料\n",
       "3 白兰地     酒精饮料\n",
       "4 白面包     西点    \n",
       "5 半成品面包 西点    \n",
       "6 包装袋     百货    "
      ]
     },
     "metadata": {},
     "output_type": "display_data"
    },
    {
     "data": {
      "text/html": [
       "<table>\n",
       "<caption>A data.frame: 6 × 2</caption>\n",
       "<thead>\n",
       "\t<tr><th></th><th scope=col>Goods</th><th scope=col>Types</th></tr>\n",
       "\t<tr><th></th><th scope=col>&lt;chr&gt;</th><th scope=col>&lt;chr&gt;</th></tr>\n",
       "</thead>\n",
       "<tbody>\n",
       "\t<tr><th scope=row>1</th><td>白饭</td><td>熟食</td></tr>\n",
       "\t<tr><th scope=row>2</th><td>白饭</td><td>熟食</td></tr>\n",
       "\t<tr><th scope=row>3</th><td>白饭</td><td>熟食</td></tr>\n",
       "\t<tr><th scope=row>4</th><td>白饭</td><td>熟食</td></tr>\n",
       "\t<tr><th scope=row>5</th><td>白饭</td><td>熟食</td></tr>\n",
       "\t<tr><th scope=row>6</th><td>白饭</td><td>熟食</td></tr>\n",
       "</tbody>\n",
       "</table>\n"
      ],
      "text/latex": [
       "A data.frame: 6 × 2\n",
       "\\begin{tabular}{r|ll}\n",
       "  & Goods & Types\\\\\n",
       "  & <chr> & <chr>\\\\\n",
       "\\hline\n",
       "\t1 & 白饭 & 熟食\\\\\n",
       "\t2 & 白饭 & 熟食\\\\\n",
       "\t3 & 白饭 & 熟食\\\\\n",
       "\t4 & 白饭 & 熟食\\\\\n",
       "\t5 & 白饭 & 熟食\\\\\n",
       "\t6 & 白饭 & 熟食\\\\\n",
       "\\end{tabular}\n"
      ],
      "text/markdown": [
       "\n",
       "A data.frame: 6 × 2\n",
       "\n",
       "| <!--/--> | Goods &lt;chr&gt; | Types &lt;chr&gt; |\n",
       "|---|---|---|\n",
       "| 1 | 白饭 | 熟食 |\n",
       "| 2 | 白饭 | 熟食 |\n",
       "| 3 | 白饭 | 熟食 |\n",
       "| 4 | 白饭 | 熟食 |\n",
       "| 5 | 白饭 | 熟食 |\n",
       "| 6 | 白饭 | 熟食 |\n",
       "\n"
      ],
      "text/plain": [
       "  Goods Types\n",
       "1 白饭  熟食 \n",
       "2 白饭  熟食 \n",
       "3 白饭  熟食 \n",
       "4 白饭  熟食 \n",
       "5 白饭  熟食 \n",
       "6 白饭  熟食 "
      ]
     },
     "metadata": {},
     "output_type": "display_data"
    }
   ],
   "source": [
    "# 载入数据集\n",
    "order_data <- read.csv(\"../input/data/task/GoodsOrder.csv\", stringsAsFactor = F)\n",
    "head(order_data)\n",
    "\n",
    "# 修改编码为gb2312\n",
    "type_data <- read.csv(\"../input/data/task/GoodsTypes.csv\", stringsAsFactor = F, fileEncoding = 'gb2312')\n",
    "head(type_data)\n",
    "\n",
    "# 合并数据集\n",
    "goods <- merge(order_data[\"Goods\"], type_data, key = \"Goods\")\n",
    "head(goods)"
   ]
  },
  {
   "cell_type": "code",
   "execution_count": 87,
   "metadata": {
    "ExecuteTime": {
     "end_time": "2020-04-09T10:03:33.878167Z",
     "start_time": "2020-04-09T10:03:33.831Z"
    }
   },
   "outputs": [
    {
     "data": {
      "text/html": [
       "<table>\n",
       "<caption>A data.frame: 6 × 3</caption>\n",
       "<thead>\n",
       "\t<tr><th></th><th scope=col>goods</th><th scope=col>count</th><th scope=col>percent</th></tr>\n",
       "\t<tr><th></th><th scope=col>&lt;fct&gt;</th><th scope=col>&lt;int&gt;</th><th scope=col>&lt;dbl&gt;</th></tr>\n",
       "</thead>\n",
       "<tbody>\n",
       "\t<tr><th scope=row>110</th><td>全脂牛奶</td><td>2513</td><td>0.05794729</td></tr>\n",
       "\t<tr><th scope=row>103</th><td>其他蔬菜</td><td>1903</td><td>0.04388129</td></tr>\n",
       "\t<tr><th scope=row>87</th><td>面包卷  </td><td>1809</td><td>0.04171375</td></tr>\n",
       "\t<tr><th scope=row>121</th><td>苏打    </td><td>1715</td><td>0.03954620</td></tr>\n",
       "\t<tr><th scope=row>123</th><td>酸奶    </td><td>1372</td><td>0.03163696</td></tr>\n",
       "\t<tr><th scope=row>100</th><td>瓶装水  </td><td>1087</td><td>0.02506514</td></tr>\n",
       "</tbody>\n",
       "</table>\n"
      ],
      "text/latex": [
       "A data.frame: 6 × 3\n",
       "\\begin{tabular}{r|lll}\n",
       "  & goods & count & percent\\\\\n",
       "  & <fct> & <int> & <dbl>\\\\\n",
       "\\hline\n",
       "\t110 & 全脂牛奶 & 2513 & 0.05794729\\\\\n",
       "\t103 & 其他蔬菜 & 1903 & 0.04388129\\\\\n",
       "\t87 & 面包卷   & 1809 & 0.04171375\\\\\n",
       "\t121 & 苏打     & 1715 & 0.03954620\\\\\n",
       "\t123 & 酸奶     & 1372 & 0.03163696\\\\\n",
       "\t100 & 瓶装水   & 1087 & 0.02506514\\\\\n",
       "\\end{tabular}\n"
      ],
      "text/markdown": [
       "\n",
       "A data.frame: 6 × 3\n",
       "\n",
       "| <!--/--> | goods &lt;fct&gt; | count &lt;int&gt; | percent &lt;dbl&gt; |\n",
       "|---|---|---|---|\n",
       "| 110 | 全脂牛奶 | 2513 | 0.05794729 |\n",
       "| 103 | 其他蔬菜 | 1903 | 0.04388129 |\n",
       "| 87 | 面包卷   | 1809 | 0.04171375 |\n",
       "| 121 | 苏打     | 1715 | 0.03954620 |\n",
       "| 123 | 酸奶     | 1372 | 0.03163696 |\n",
       "| 100 | 瓶装水   | 1087 | 0.02506514 |\n",
       "\n"
      ],
      "text/plain": [
       "    goods    count percent   \n",
       "110 全脂牛奶 2513  0.05794729\n",
       "103 其他蔬菜 1903  0.04388129\n",
       "87  面包卷   1809  0.04171375\n",
       "121 苏打     1715  0.03954620\n",
       "123 酸奶     1372  0.03163696\n",
       "100 瓶装水   1087  0.02506514"
      ]
     },
     "metadata": {},
     "output_type": "display_data"
    }
   ],
   "source": [
    "# 统计热销商品\n",
    "hot_goods <- data.frame(table(order_data[, 2]))\n",
    "# 改列名\n",
    "names(hot_goods) <- c(\"goods\", \"count\")\n",
    "# 排序\n",
    "hot_goods <- hot_goods[order(hot_goods$count, decreasing = T), ]\n",
    "# 百分比\n",
    "hot_goods[\"percent\"] <- hot_goods$count / sum(hot_goods$count)\n",
    "head(hot_goods)\n",
    "\n",
    "# 保存热销商品的文件\n",
    "write.csv(hot_goods, \"../output/file/hot_goods.csv\", row.names = F)\n",
    "# 显示保存情况\n",
    "file.show(\"../output/file/hot_goods.csv\")"
   ]
  },
  {
   "cell_type": "code",
   "execution_count": 104,
   "metadata": {
    "ExecuteTime": {
     "end_time": "2020-04-09T10:13:13.700723Z",
     "start_time": "2020-04-09T10:13:13.656Z"
    }
   },
   "outputs": [
    {
     "data": {
      "text/html": [
       "<table>\n",
       "<caption>A data.frame: 6 × 3</caption>\n",
       "<thead>\n",
       "\t<tr><th></th><th scope=col>goods</th><th scope=col>count</th><th scope=col>percent</th></tr>\n",
       "\t<tr><th></th><th scope=col>&lt;fct&gt;</th><th scope=col>&lt;int&gt;</th><th scope=col>&lt;dbl&gt;</th></tr>\n",
       "</thead>\n",
       "<tbody>\n",
       "\t<tr><th scope=row>1</th><td>百货      </td><td>43</td><td>0.25443787</td></tr>\n",
       "\t<tr><th scope=row>6</th><td>米粮调料  </td><td>32</td><td>0.18934911</td></tr>\n",
       "\t<tr><th scope=row>10</th><td>西点      </td><td>21</td><td>0.12426036</td></tr>\n",
       "\t<tr><th scope=row>7</th><td>肉类      </td><td>16</td><td>0.09467456</td></tr>\n",
       "\t<tr><th scope=row>3</th><td>果蔬      </td><td>14</td><td>0.08284024</td></tr>\n",
       "\t<tr><th scope=row>2</th><td>非酒精饮料</td><td>11</td><td>0.06508876</td></tr>\n",
       "</tbody>\n",
       "</table>\n"
      ],
      "text/latex": [
       "A data.frame: 6 × 3\n",
       "\\begin{tabular}{r|lll}\n",
       "  & goods & count & percent\\\\\n",
       "  & <fct> & <int> & <dbl>\\\\\n",
       "\\hline\n",
       "\t1 & 百货       & 43 & 0.25443787\\\\\n",
       "\t6 & 米粮调料   & 32 & 0.18934911\\\\\n",
       "\t10 & 西点       & 21 & 0.12426036\\\\\n",
       "\t7 & 肉类       & 16 & 0.09467456\\\\\n",
       "\t3 & 果蔬       & 14 & 0.08284024\\\\\n",
       "\t2 & 非酒精饮料 & 11 & 0.06508876\\\\\n",
       "\\end{tabular}\n"
      ],
      "text/markdown": [
       "\n",
       "A data.frame: 6 × 3\n",
       "\n",
       "| <!--/--> | goods &lt;fct&gt; | count &lt;int&gt; | percent &lt;dbl&gt; |\n",
       "|---|---|---|---|\n",
       "| 1 | 百货       | 43 | 0.25443787 |\n",
       "| 6 | 米粮调料   | 32 | 0.18934911 |\n",
       "| 10 | 西点       | 21 | 0.12426036 |\n",
       "| 7 | 肉类       | 16 | 0.09467456 |\n",
       "| 3 | 果蔬       | 14 | 0.08284024 |\n",
       "| 2 | 非酒精饮料 | 11 | 0.06508876 |\n",
       "\n"
      ],
      "text/plain": [
       "   goods      count percent   \n",
       "1  百货       43    0.25443787\n",
       "6  米粮调料   32    0.18934911\n",
       "10 西点       21    0.12426036\n",
       "7  肉类       16    0.09467456\n",
       "3  果蔬       14    0.08284024\n",
       "2  非酒精饮料 11    0.06508876"
      ]
     },
     "metadata": {},
     "output_type": "display_data"
    }
   ],
   "source": [
    "# 统计热销种类\n",
    "hot_type <- data.frame(table(type_data[, 2]))\n",
    "# 改列名\n",
    "names(hot_type) <- c(\"goods\", \"count\")\n",
    "# 百分比\n",
    "hot_type[\"percent\"] <- hot_type$count / sum(hot_type$count)\n",
    "# 排序\n",
    "hot_type <- hot_type[order(hot_type$count, decreasing = T), ]\n",
    "head(hot_type)\n",
    "\n",
    "# 写文件\n",
    "write.csv(hot_type, \"../output/file/hot_type.csv\", row.names = F)\n",
    "\n",
    "# 显示写入的文件\n",
    "file.show(\"../output/file/hot_goods.csv\")"
   ]
  },
  {
   "cell_type": "code",
   "execution_count": 109,
   "metadata": {
    "ExecuteTime": {
     "end_time": "2020-04-09T10:17:42.226021Z",
     "start_time": "2020-04-09T10:17:42.200Z"
    }
   },
   "outputs": [
    {
     "data": {
      "text/html": [
       "<table>\n",
       "<caption>A data.frame: 6 × 2</caption>\n",
       "<thead>\n",
       "\t<tr><th></th><th scope=col>Goods</th><th scope=col>Types</th></tr>\n",
       "\t<tr><th></th><th scope=col>&lt;chr&gt;</th><th scope=col>&lt;chr&gt;</th></tr>\n",
       "</thead>\n",
       "<tbody>\n",
       "\t<tr><th scope=row>1</th><td>白饭</td><td>熟食</td></tr>\n",
       "\t<tr><th scope=row>2</th><td>白饭</td><td>熟食</td></tr>\n",
       "\t<tr><th scope=row>3</th><td>白饭</td><td>熟食</td></tr>\n",
       "\t<tr><th scope=row>4</th><td>白饭</td><td>熟食</td></tr>\n",
       "\t<tr><th scope=row>5</th><td>白饭</td><td>熟食</td></tr>\n",
       "\t<tr><th scope=row>6</th><td>白饭</td><td>熟食</td></tr>\n",
       "</tbody>\n",
       "</table>\n"
      ],
      "text/latex": [
       "A data.frame: 6 × 2\n",
       "\\begin{tabular}{r|ll}\n",
       "  & Goods & Types\\\\\n",
       "  & <chr> & <chr>\\\\\n",
       "\\hline\n",
       "\t1 & 白饭 & 熟食\\\\\n",
       "\t2 & 白饭 & 熟食\\\\\n",
       "\t3 & 白饭 & 熟食\\\\\n",
       "\t4 & 白饭 & 熟食\\\\\n",
       "\t5 & 白饭 & 熟食\\\\\n",
       "\t6 & 白饭 & 熟食\\\\\n",
       "\\end{tabular}\n"
      ],
      "text/markdown": [
       "\n",
       "A data.frame: 6 × 2\n",
       "\n",
       "| <!--/--> | Goods &lt;chr&gt; | Types &lt;chr&gt; |\n",
       "|---|---|---|\n",
       "| 1 | 白饭 | 熟食 |\n",
       "| 2 | 白饭 | 熟食 |\n",
       "| 3 | 白饭 | 熟食 |\n",
       "| 4 | 白饭 | 熟食 |\n",
       "| 5 | 白饭 | 熟食 |\n",
       "| 6 | 白饭 | 熟食 |\n",
       "\n"
      ],
      "text/plain": [
       "  Goods Types\n",
       "1 白饭  熟食 \n",
       "2 白饭  熟食 \n",
       "3 白饭  熟食 \n",
       "4 白饭  熟食 \n",
       "5 白饭  熟食 \n",
       "6 白饭  熟食 "
      ]
     },
     "metadata": {},
     "output_type": "display_data"
    }
   ],
   "source": [
    "head(goods)"
   ]
  },
  {
   "cell_type": "code",
   "execution_count": 123,
   "metadata": {
    "ExecuteTime": {
     "end_time": "2020-04-09T10:25:40.540999Z",
     "start_time": "2020-04-09T10:25:40.471Z"
    }
   },
   "outputs": [],
   "source": [
    "# 非酒精\n",
    "drink <- goods[goods$Types == \"非酒精饮料\", ]\n",
    "# 统计\n",
    "hot_drink <- data.frame(table(drink$Goods)) \n",
    "# 改列名\n",
    "names(hot_drink) <- c(\"goods\", \"count\")\n",
    "# 排序\n",
    "hot_drink <- hot_drink[order(hot_drink$count, decreasing = T), ]\n",
    "# 百分比\n",
    "hot_drink[\"persent\"] <- hot_drink$count / sum(hot_drink$count)\n",
    "\n",
    "# 写文件\n",
    "write.csv(hot_drink, \"../output/file/hot_drink.csv\", row.names = F)\n",
    "# 显示文件\n",
    "file.show(\"../output/file/hot_drink.csv\")"
   ]
  },
  {
   "cell_type": "code",
   "execution_count": 126,
   "metadata": {
    "ExecuteTime": {
     "end_time": "2020-04-09T10:28:14.911339Z",
     "start_time": "2020-04-09T10:28:10.944Z"
    }
   },
   "outputs": [],
   "source": [
    "GoodsOrder <- read.csv(\"../input/data/task/GoodsOrder.csv\", stringsAsFactors = FALSE)\n",
    "library(arules)  # 导入所需库包\n",
    "\n",
    "# 数据形式转换\n",
    "dataList <- list()\n",
    "for (i in unique(GoodsOrder$ID)) {\n",
    "    dataList[[i]] <- GoodsOrder[which(GoodsOrder$ID == i), 2]\n",
    "}"
   ]
  },
  {
   "cell_type": "code",
   "execution_count": 131,
   "metadata": {
    "ExecuteTime": {
     "end_time": "2020-04-09T10:34:44.542861Z",
     "start_time": "2020-04-09T10:34:44.510Z"
    }
   },
   "outputs": [
    {
     "data": {
      "text/html": [
       "<ol>\n",
       "\t<li><style>\n",
       ".list-inline {list-style: none; margin:0; padding: 0}\n",
       ".list-inline>li {display: inline-block}\n",
       ".list-inline>li:not(:last-child)::after {content: \"\\00b7\"; padding: 0 .5ex}\n",
       "</style>\n",
       "<ol class=list-inline><li>'柑橘类水果'</li><li>'人造黄油'</li><li>'即食汤'</li><li>'半成品面包'</li></ol>\n",
       "</li>\n",
       "\t<li><style>\n",
       ".list-inline {list-style: none; margin:0; padding: 0}\n",
       ".list-inline>li {display: inline-block}\n",
       ".list-inline>li:not(:last-child)::after {content: \"\\00b7\"; padding: 0 .5ex}\n",
       "</style>\n",
       "<ol class=list-inline><li>'咖啡'</li><li>'热带水果'</li><li>'酸奶'</li></ol>\n",
       "</li>\n",
       "\t<li>'全脂牛奶'</li>\n",
       "\t<li><style>\n",
       ".list-inline {list-style: none; margin:0; padding: 0}\n",
       ".list-inline>li {display: inline-block}\n",
       ".list-inline>li:not(:last-child)::after {content: \"\\00b7\"; padding: 0 .5ex}\n",
       "</style>\n",
       "<ol class=list-inline><li>'奶油乳酪'</li><li>'肉泥'</li><li>'仁果类水果'</li><li>'酸奶'</li></ol>\n",
       "</li>\n",
       "\t<li><style>\n",
       ".list-inline {list-style: none; margin:0; padding: 0}\n",
       ".list-inline>li {display: inline-block}\n",
       ".list-inline>li:not(:last-child)::after {content: \"\\00b7\"; padding: 0 .5ex}\n",
       "</style>\n",
       "<ol class=list-inline><li>'炼乳'</li><li>'长面包'</li><li>'其他蔬菜'</li><li>'全脂牛奶'</li></ol>\n",
       "</li>\n",
       "\t<li><style>\n",
       ".list-inline {list-style: none; margin:0; padding: 0}\n",
       ".list-inline>li {display: inline-block}\n",
       ".list-inline>li:not(:last-child)::after {content: \"\\00b7\"; padding: 0 .5ex}\n",
       "</style>\n",
       "<ol class=list-inline><li>'腐蚀性清洁剂'</li><li>'黄油'</li><li>'白饭'</li><li>'全脂牛奶'</li><li>'酸奶'</li></ol>\n",
       "</li>\n",
       "</ol>\n"
      ],
      "text/latex": [
       "\\begin{enumerate}\n",
       "\\item \\begin{enumerate*}\n",
       "\\item '柑橘类水果'\n",
       "\\item '人造黄油'\n",
       "\\item '即食汤'\n",
       "\\item '半成品面包'\n",
       "\\end{enumerate*}\n",
       "\n",
       "\\item \\begin{enumerate*}\n",
       "\\item '咖啡'\n",
       "\\item '热带水果'\n",
       "\\item '酸奶'\n",
       "\\end{enumerate*}\n",
       "\n",
       "\\item '全脂牛奶'\n",
       "\\item \\begin{enumerate*}\n",
       "\\item '奶油乳酪'\n",
       "\\item '肉泥'\n",
       "\\item '仁果类水果'\n",
       "\\item '酸奶'\n",
       "\\end{enumerate*}\n",
       "\n",
       "\\item \\begin{enumerate*}\n",
       "\\item '炼乳'\n",
       "\\item '长面包'\n",
       "\\item '其他蔬菜'\n",
       "\\item '全脂牛奶'\n",
       "\\end{enumerate*}\n",
       "\n",
       "\\item \\begin{enumerate*}\n",
       "\\item '腐蚀性清洁剂'\n",
       "\\item '黄油'\n",
       "\\item '白饭'\n",
       "\\item '全脂牛奶'\n",
       "\\item '酸奶'\n",
       "\\end{enumerate*}\n",
       "\n",
       "\\end{enumerate}\n"
      ],
      "text/markdown": [
       "1. 1. '柑橘类水果'\n",
       "2. '人造黄油'\n",
       "3. '即食汤'\n",
       "4. '半成品面包'\n",
       "\n",
       "\n",
       "\n",
       "2. 1. '咖啡'\n",
       "2. '热带水果'\n",
       "3. '酸奶'\n",
       "\n",
       "\n",
       "\n",
       "3. '全脂牛奶'\n",
       "4. 1. '奶油乳酪'\n",
       "2. '肉泥'\n",
       "3. '仁果类水果'\n",
       "4. '酸奶'\n",
       "\n",
       "\n",
       "\n",
       "5. 1. '炼乳'\n",
       "2. '长面包'\n",
       "3. '其他蔬菜'\n",
       "4. '全脂牛奶'\n",
       "\n",
       "\n",
       "\n",
       "6. 1. '腐蚀性清洁剂'\n",
       "2. '黄油'\n",
       "3. '白饭'\n",
       "4. '全脂牛奶'\n",
       "5. '酸奶'\n",
       "\n",
       "\n",
       "\n",
       "\n",
       "\n"
      ],
      "text/plain": [
       "[[1]]\n",
       "[1] \"柑橘类水果\" \"人造黄油\"   \"即食汤\"     \"半成品面包\"\n",
       "\n",
       "[[2]]\n",
       "[1] \"咖啡\"     \"热带水果\" \"酸奶\"    \n",
       "\n",
       "[[3]]\n",
       "[1] \"全脂牛奶\"\n",
       "\n",
       "[[4]]\n",
       "[1] \"奶油乳酪\"   \"肉泥\"       \"仁果类水果\" \"酸奶\"      \n",
       "\n",
       "[[5]]\n",
       "[1] \"炼乳\"     \"长面包\"   \"其他蔬菜\" \"全脂牛奶\"\n",
       "\n",
       "[[6]]\n",
       "[1] \"腐蚀性清洁剂\" \"黄油\"         \"白饭\"         \"全脂牛奶\"     \"酸奶\"        \n"
      ]
     },
     "metadata": {},
     "output_type": "display_data"
    }
   ],
   "source": [
    "head(dataList)"
   ]
  },
  {
   "cell_type": "code",
   "execution_count": 141,
   "metadata": {
    "ExecuteTime": {
     "end_time": "2020-04-09T10:38:47.263957Z",
     "start_time": "2020-04-09T10:38:46.869Z"
    }
   },
   "outputs": [],
   "source": [
    "# 转化为transactions\n",
    "TransRep <- as(dataList, \"transactions\")"
   ]
  },
  {
   "cell_type": "code",
   "execution_count": 139,
   "metadata": {
    "ExecuteTime": {
     "end_time": "2020-04-09T10:38:04.006003Z",
     "start_time": "2020-04-09T10:38:03.965Z"
    }
   },
   "outputs": [
    {
     "name": "stdout",
     "output_type": "stream",
     "text": [
      "     items                                             \n",
      "[1]  {半成品面包,柑橘类水果,即食汤,人造黄油}           \n",
      "[2]  {咖啡,热带水果,酸奶}                              \n",
      "[3]  {全脂牛奶}                                        \n",
      "[4]  {奶油乳酪,仁果类水果,肉泥,酸奶}                   \n",
      "[5]  {炼乳,其他蔬菜,全脂牛奶,长面包}                   \n",
      "[6]  {白饭,腐蚀性清洁剂,黄油,全脂牛奶,酸奶}            \n",
      "[7]  {面包卷}                                          \n",
      "[8]  {超高温杀菌的牛奶,开胃酒,面包卷,瓶装啤酒,其他蔬菜}\n",
      "[9]  {盆栽}                                            \n",
      "[10] {谷物,全脂牛奶}                                   \n"
     ]
    }
   ],
   "source": [
    "# 查看item\n",
    "inspect(TransRep[1:10])"
   ]
  },
  {
   "cell_type": "code",
   "execution_count": 142,
   "metadata": {
    "ExecuteTime": {
     "end_time": "2020-04-09T10:39:18.119028Z",
     "start_time": "2020-04-09T10:39:18.044Z"
    }
   },
   "outputs": [
    {
     "name": "stdout",
     "output_type": "stream",
     "text": [
      "Apriori\n",
      "\n",
      "Parameter specification:\n",
      " confidence minval smax arem  aval originalSupport maxtime support minlen\n",
      "       0.25    0.1    1 none FALSE            TRUE       5    0.02      1\n",
      " maxlen target   ext\n",
      "     10  rules FALSE\n",
      "\n",
      "Algorithmic control:\n",
      " filter tree heap memopt load sort verbose\n",
      "    0.1 TRUE TRUE  FALSE TRUE    2    TRUE\n",
      "\n",
      "Absolute minimum support count: 196 \n",
      "\n",
      "set item appearances ...[0 item(s)] done [0.00s].\n",
      "set transactions ...[169 item(s), 9835 transaction(s)] done [0.00s].\n",
      "sorting and recoding items ... [59 item(s)] done [0.00s].\n",
      "creating transaction tree ... done [0.00s].\n",
      "checking subsets of size 1 2 3 done [0.00s].\n",
      "writing ... [50 rule(s)] done [0.00s].\n",
      "creating S4 object  ... done [0.00s].\n"
     ]
    }
   ],
   "source": [
    "RulesRep <- apriori(TransRep, parameter = list(support = 0.02, confidence = 0.25))"
   ]
  },
  {
   "cell_type": "code",
   "execution_count": 143,
   "metadata": {
    "ExecuteTime": {
     "end_time": "2020-04-09T10:39:34.650506Z",
     "start_time": "2020-04-09T10:39:34.571Z"
    }
   },
   "outputs": [
    {
     "name": "stdout",
     "output_type": "stream",
     "text": [
      "     lhs             rhs        support    confidence lift      count\n",
      "[1]  {}           => {全脂牛奶} 0.25551601 0.2555160  1.0000000 2513 \n",
      "[2]  {冷冻蔬菜}   => {全脂牛奶} 0.02043721 0.4249471  1.6630940  201 \n",
      "[3]  {牛肉}       => {全脂牛奶} 0.02125064 0.4050388  1.5851795  209 \n",
      "[4]  {凝乳}       => {全脂牛奶} 0.02613116 0.4904580  1.9194805  257 \n",
      "[5]  {猪肉}       => {其他蔬菜} 0.02165735 0.3756614  1.9414764  213 \n",
      "[6]  {猪肉}       => {全脂牛奶} 0.02216573 0.3844797  1.5047187  218 \n",
      "[7]  {冷冻热狗肠} => {全脂牛奶} 0.02053889 0.3482759  1.3630295  202 \n",
      "[8]  {瓶装啤酒}   => {全脂牛奶} 0.02043721 0.2537879  0.9932367  201 \n",
      "[9]  {黑面包}     => {全脂牛奶} 0.02521607 0.3887147  1.5212930  248 \n",
      "[10] {人造黄油}   => {全脂牛奶} 0.02419929 0.4131944  1.6170980  238 \n"
     ]
    }
   ],
   "source": [
    "inspect(RulesRep[1:10])"
   ]
  },
  {
   "cell_type": "code",
   "execution_count": 144,
   "metadata": {
    "ExecuteTime": {
     "end_time": "2020-04-09T10:39:56.201506Z",
     "start_time": "2020-04-09T10:39:56.113Z"
    }
   },
   "outputs": [
    {
     "name": "stdout",
     "output_type": "stream",
     "text": [
      "     lhs                      rhs          support    confidence lift     count\n",
      "[1]  {其他蔬菜,全脂牛奶}   => {根茎类蔬菜} 0.02318251 0.3097826  2.842082 228  \n",
      "[2]  {仁果类水果}          => {热带水果}   0.02043721 0.2701613  2.574648 201  \n",
      "[3]  {根茎类蔬菜,全脂牛奶} => {其他蔬菜}   0.02318251 0.4740125  2.449770 228  \n",
      "[4]  {根茎类蔬菜}          => {其他蔬菜}   0.04738180 0.4347015  2.246605 466  \n",
      "[5]  {其他蔬菜,全脂牛奶}   => {酸奶}       0.02226741 0.2975543  2.132979 219  \n",
      "[6]  {酸奶油}              => {其他蔬菜}   0.02887646 0.4028369  2.081924 284  \n",
      "[7]  {酸奶油}              => {酸奶}       0.02074225 0.2893617  2.074251 204  \n",
      "[8]  {全脂牛奶,酸奶}       => {其他蔬菜}   0.02226741 0.3974592  2.054131 219  \n",
      "[9]  {其他蔬菜,酸奶}       => {全脂牛奶}   0.02226741 0.5128806  2.007235 219  \n",
      "[10] {热带水果}            => {酸奶}       0.02928317 0.2790698  2.000475 288  \n",
      "[11] {黄油}                => {全脂牛奶}   0.02755465 0.4972477  1.946053 271  \n",
      "[12] {猪肉}                => {其他蔬菜}   0.02165735 0.3756614  1.941476 213  \n",
      "[13] {凝乳}                => {全脂牛奶}   0.02613116 0.4904580  1.919481 257  \n",
      "[14] {根茎类蔬菜,其他蔬菜} => {全脂牛奶}   0.02318251 0.4892704  1.914833 228  \n",
      "[15] {柑橘类水果}          => {酸奶}       0.02165735 0.2616708  1.875752 213  \n",
      "[16] {黄油}                => {其他蔬菜}   0.02003050 0.3614679  1.868122 197  \n",
      "[17] {本地蛋类}            => {全脂牛奶}   0.02999492 0.4727564  1.850203 295  \n",
      "[18] {本地蛋类}            => {其他蔬菜}   0.02226741 0.3509615  1.813824 219  \n",
      "[19] {柑橘类水果}          => {其他蔬菜}   0.02887646 0.3488943  1.803140 284  \n",
      "[20] {仁果类水果}          => {其他蔬菜}   0.02613116 0.3454301  1.785237 257  \n",
      "[21] {香肠}                => {面包卷}     0.03060498 0.3257576  1.771048 301  \n",
      "[22] {热带水果}            => {其他蔬菜}   0.03589222 0.3420543  1.767790 353  \n",
      "[23] {酸奶油}              => {全脂牛奶}   0.03223183 0.4496454  1.759754 317  \n",
      "[24] {根茎类蔬菜}          => {全脂牛奶}   0.04890696 0.4486940  1.756031 481  \n",
      "[25] {冷冻蔬菜}            => {全脂牛奶}   0.02043721 0.4249471  1.663094 201  \n"
     ]
    }
   ],
   "source": [
    "# 排序\n",
    "inspect(sort(RulesRep, by = \"lift\")[1:25]) "
   ]
  },
  {
   "cell_type": "code",
   "execution_count": 152,
   "metadata": {
    "ExecuteTime": {
     "end_time": "2020-04-09T10:44:47.405037Z",
     "start_time": "2020-04-09T10:44:47.380Z"
    }
   },
   "outputs": [],
   "source": [
    "file.show(\"../input/data/example/bread.csv\", encoding = \"gb2312\")"
   ]
  },
  {
   "cell_type": "code",
   "execution_count": 149,
   "metadata": {
    "ExecuteTime": {
     "end_time": "2020-04-09T10:44:27.077484Z",
     "start_time": "2020-04-09T10:44:27.054Z"
    }
   },
   "outputs": [],
   "source": [
    "file.show(\"../input/data/example/Breakfast.csv\", encoding = \"gb2312\")"
   ]
  },
  {
   "cell_type": "code",
   "execution_count": 151,
   "metadata": {
    "ExecuteTime": {
     "end_time": "2020-04-09T10:44:40.925853Z",
     "start_time": "2020-04-09T10:44:40.903Z"
    }
   },
   "outputs": [],
   "source": [
    "file.show(\"../input/data/example/drink.csv\", encoding = \"gb2312\")"
   ]
  },
  {
   "cell_type": "code",
   "execution_count": 154,
   "metadata": {
    "ExecuteTime": {
     "end_time": "2020-04-09T10:47:20.209496Z",
     "start_time": "2020-04-09T10:47:20.182Z"
    }
   },
   "outputs": [],
   "source": [
    "bread_data <- read.csv(\"../input/data/example/bread.csv\", fileEncoding = \"gb2312\", stringsAsFactor = F)\n",
    "breakfast_data <- read.csv(\"../input/data/example/Breakfast.csv\", fileEncoding = \"gb2312\", stringsAsFactor = F)\n",
    "drink_data <- read.csv(\"../input/data/example/drink.csv\", fileEncoding = \"gb2312\", stringsAsFactor = F)"
   ]
  },
  {
   "cell_type": "code",
   "execution_count": 170,
   "metadata": {
    "ExecuteTime": {
     "end_time": "2020-04-09T10:53:35.034651Z",
     "start_time": "2020-04-09T10:53:34.991Z"
    }
   },
   "outputs": [
    {
     "data": {
      "text/html": [
       "FALSE"
      ],
      "text/latex": [
       "FALSE"
      ],
      "text/markdown": [
       "FALSE"
      ],
      "text/plain": [
       "[1] FALSE"
      ]
     },
     "metadata": {},
     "output_type": "display_data"
    },
    {
     "data": {
      "text/html": [
       "<table>\n",
       "<caption>A data.frame: 6 × 2</caption>\n",
       "<thead>\n",
       "\t<tr><th></th><th scope=col>Goods</th><th scope=col>sort</th></tr>\n",
       "\t<tr><th></th><th scope=col>&lt;chr&gt;</th><th scope=col>&lt;chr&gt;</th></tr>\n",
       "</thead>\n",
       "<tbody>\n",
       "\t<tr><th scope=row>1</th><td>蛋挞</td><td>点心面包</td></tr>\n",
       "\t<tr><th scope=row>2</th><td>蛋挞</td><td>点心面包</td></tr>\n",
       "\t<tr><th scope=row>3</th><td>蛋挞</td><td>点心面包</td></tr>\n",
       "\t<tr><th scope=row>4</th><td>蛋挞</td><td>点心面包</td></tr>\n",
       "\t<tr><th scope=row>5</th><td>蛋挞</td><td>点心面包</td></tr>\n",
       "\t<tr><th scope=row>6</th><td>蛋挞</td><td>点心面包</td></tr>\n",
       "</tbody>\n",
       "</table>\n"
      ],
      "text/latex": [
       "A data.frame: 6 × 2\n",
       "\\begin{tabular}{r|ll}\n",
       "  & Goods & sort\\\\\n",
       "  & <chr> & <chr>\\\\\n",
       "\\hline\n",
       "\t1 & 蛋挞 & 点心面包\\\\\n",
       "\t2 & 蛋挞 & 点心面包\\\\\n",
       "\t3 & 蛋挞 & 点心面包\\\\\n",
       "\t4 & 蛋挞 & 点心面包\\\\\n",
       "\t5 & 蛋挞 & 点心面包\\\\\n",
       "\t6 & 蛋挞 & 点心面包\\\\\n",
       "\\end{tabular}\n"
      ],
      "text/markdown": [
       "\n",
       "A data.frame: 6 × 2\n",
       "\n",
       "| <!--/--> | Goods &lt;chr&gt; | sort &lt;chr&gt; |\n",
       "|---|---|---|\n",
       "| 1 | 蛋挞 | 点心面包 |\n",
       "| 2 | 蛋挞 | 点心面包 |\n",
       "| 3 | 蛋挞 | 点心面包 |\n",
       "| 4 | 蛋挞 | 点心面包 |\n",
       "| 5 | 蛋挞 | 点心面包 |\n",
       "| 6 | 蛋挞 | 点心面包 |\n",
       "\n"
      ],
      "text/plain": [
       "  Goods sort    \n",
       "1 蛋挞  点心面包\n",
       "2 蛋挞  点心面包\n",
       "3 蛋挞  点心面包\n",
       "4 蛋挞  点心面包\n",
       "5 蛋挞  点心面包\n",
       "6 蛋挞  点心面包"
      ]
     },
     "metadata": {},
     "output_type": "display_data"
    }
   ],
   "source": [
    "names(bread_data) = c(\"Goods\", \"sort\")\n",
    "# 合并数据\n",
    "breakfast <- merge(bread_data, breakfast_data[\"Goods\"], key = \"Goods\")\n",
    "# 缺失值检测\n",
    "anyNA(breakfast)\n",
    "head(breakfast)"
   ]
  },
  {
   "cell_type": "code",
   "execution_count": 177,
   "metadata": {
    "ExecuteTime": {
     "end_time": "2020-04-09T10:57:14.358253Z",
     "start_time": "2020-04-09T10:57:14.323Z"
    }
   },
   "outputs": [],
   "source": [
    "# 统计\n",
    "hot_breakfast <- data.frame(table(breakfast$Goods)) \n",
    "# 改列名\n",
    "names(hot_breakfast) <- c(\"goods\", \"count\")\n",
    "# 排序\n",
    "hot_breakfast <- hot_breakfast[order(hot_breakfast$count, decreasing = T), ]\n",
    "# 百分比\n",
    "hot_breakfast[\"percent\"] <- hot_breakfast$count / sum(hot_breakfast$count)\n",
    "\n",
    "# 写文件\n",
    "write.csv(hot_breakfast, \"../output/file/hot_breakfast.csv\", row.names = F)\n",
    "# 显示文件\n",
    "file.show(\"../output/file/hot_breakfast.csv\")"
   ]
  },
  {
   "cell_type": "code",
   "execution_count": 181,
   "metadata": {
    "ExecuteTime": {
     "end_time": "2020-04-09T11:01:31.271777Z",
     "start_time": "2020-04-09T11:01:31.242Z"
    }
   },
   "outputs": [],
   "source": [
    "library(arules)  # 导入所需库包\n",
    "\n",
    "# 数据形式转换\n",
    "dataList <- list()\n",
    "for (i in unique(breakfast_data$ID)) {\n",
    "    dataList[[i]] <- breakfast_data[which(breakfast_data$ID == i), 2]\n",
    "}"
   ]
  },
  {
   "cell_type": "code",
   "execution_count": 182,
   "metadata": {
    "ExecuteTime": {
     "end_time": "2020-04-09T11:01:51.263537Z",
     "start_time": "2020-04-09T11:01:51.237Z"
    }
   },
   "outputs": [
    {
     "data": {
      "text/html": [
       "<ol>\n",
       "\t<li><style>\n",
       ".list-inline {list-style: none; margin:0; padding: 0}\n",
       ".list-inline>li {display: inline-block}\n",
       ".list-inline>li:not(:last-child)::after {content: \"\\00b7\"; padding: 0 .5ex}\n",
       "</style>\n",
       "<ol class=list-inline><li>'提子土司'</li><li>'纯牛奶'</li></ol>\n",
       "</li>\n",
       "\t<li><style>\n",
       ".list-inline {list-style: none; margin:0; padding: 0}\n",
       ".list-inline>li {display: inline-block}\n",
       ".list-inline>li:not(:last-child)::after {content: \"\\00b7\"; padding: 0 .5ex}\n",
       "</style>\n",
       "<ol class=list-inline><li>'提拉米苏'</li><li>'三明治'</li><li>'纯牛奶'</li></ol>\n",
       "</li>\n",
       "\t<li><style>\n",
       ".list-inline {list-style: none; margin:0; padding: 0}\n",
       ".list-inline>li {display: inline-block}\n",
       ".list-inline>li:not(:last-child)::after {content: \"\\00b7\"; padding: 0 .5ex}\n",
       "</style>\n",
       "<ol class=list-inline><li>'蒜香芝士面包'</li><li>'肉松面包'</li><li>'豆浆'</li></ol>\n",
       "</li>\n",
       "\t<li><style>\n",
       ".list-inline {list-style: none; margin:0; padding: 0}\n",
       ".list-inline>li {display: inline-block}\n",
       ".list-inline>li:not(:last-child)::after {content: \"\\00b7\"; padding: 0 .5ex}\n",
       "</style>\n",
       "<ol class=list-inline><li>'三明治'</li><li>'汉堡包'</li><li>'黑森林蛋糕'</li><li>'奶茶'</li></ol>\n",
       "</li>\n",
       "\t<li>'小麦土司'</li>\n",
       "\t<li><style>\n",
       ".list-inline {list-style: none; margin:0; padding: 0}\n",
       ".list-inline>li {display: inline-block}\n",
       ".list-inline>li:not(:last-child)::after {content: \"\\00b7\"; padding: 0 .5ex}\n",
       "</style>\n",
       "<ol class=list-inline><li>'芝士蛋糕'</li><li>'黑森林蛋糕'</li><li>'红豆酥皮面包'</li></ol>\n",
       "</li>\n",
       "</ol>\n"
      ],
      "text/latex": [
       "\\begin{enumerate}\n",
       "\\item \\begin{enumerate*}\n",
       "\\item '提子土司'\n",
       "\\item '纯牛奶'\n",
       "\\end{enumerate*}\n",
       "\n",
       "\\item \\begin{enumerate*}\n",
       "\\item '提拉米苏'\n",
       "\\item '三明治'\n",
       "\\item '纯牛奶'\n",
       "\\end{enumerate*}\n",
       "\n",
       "\\item \\begin{enumerate*}\n",
       "\\item '蒜香芝士面包'\n",
       "\\item '肉松面包'\n",
       "\\item '豆浆'\n",
       "\\end{enumerate*}\n",
       "\n",
       "\\item \\begin{enumerate*}\n",
       "\\item '三明治'\n",
       "\\item '汉堡包'\n",
       "\\item '黑森林蛋糕'\n",
       "\\item '奶茶'\n",
       "\\end{enumerate*}\n",
       "\n",
       "\\item '小麦土司'\n",
       "\\item \\begin{enumerate*}\n",
       "\\item '芝士蛋糕'\n",
       "\\item '黑森林蛋糕'\n",
       "\\item '红豆酥皮面包'\n",
       "\\end{enumerate*}\n",
       "\n",
       "\\end{enumerate}\n"
      ],
      "text/markdown": [
       "1. 1. '提子土司'\n",
       "2. '纯牛奶'\n",
       "\n",
       "\n",
       "\n",
       "2. 1. '提拉米苏'\n",
       "2. '三明治'\n",
       "3. '纯牛奶'\n",
       "\n",
       "\n",
       "\n",
       "3. 1. '蒜香芝士面包'\n",
       "2. '肉松面包'\n",
       "3. '豆浆'\n",
       "\n",
       "\n",
       "\n",
       "4. 1. '三明治'\n",
       "2. '汉堡包'\n",
       "3. '黑森林蛋糕'\n",
       "4. '奶茶'\n",
       "\n",
       "\n",
       "\n",
       "5. '小麦土司'\n",
       "6. 1. '芝士蛋糕'\n",
       "2. '黑森林蛋糕'\n",
       "3. '红豆酥皮面包'\n",
       "\n",
       "\n",
       "\n",
       "\n",
       "\n"
      ],
      "text/plain": [
       "[[1]]\n",
       "[1] \"提子土司\" \"纯牛奶\"  \n",
       "\n",
       "[[2]]\n",
       "[1] \"提拉米苏\" \"三明治\"   \"纯牛奶\"  \n",
       "\n",
       "[[3]]\n",
       "[1] \"蒜香芝士面包\" \"肉松面包\"     \"豆浆\"        \n",
       "\n",
       "[[4]]\n",
       "[1] \"三明治\"     \"汉堡包\"     \"黑森林蛋糕\" \"奶茶\"      \n",
       "\n",
       "[[5]]\n",
       "[1] \"小麦土司\"\n",
       "\n",
       "[[6]]\n",
       "[1] \"芝士蛋糕\"     \"黑森林蛋糕\"   \"红豆酥皮面包\"\n"
      ]
     },
     "metadata": {},
     "output_type": "display_data"
    }
   ],
   "source": [
    "head(dataList)"
   ]
  },
  {
   "cell_type": "code",
   "execution_count": 183,
   "metadata": {
    "ExecuteTime": {
     "end_time": "2020-04-09T11:02:36.291751Z",
     "start_time": "2020-04-09T11:02:36.249Z"
    }
   },
   "outputs": [
    {
     "name": "stdout",
     "output_type": "stream",
     "text": [
      "     items                                   \n",
      "[1]  {纯牛奶,提子土司}                       \n",
      "[2]  {纯牛奶,三明治,提拉米苏}                \n",
      "[3]  {豆浆,肉松面包,蒜香芝士面包}            \n",
      "[4]  {汉堡包,黑森林蛋糕,奶茶,三明治}         \n",
      "[5]  {小麦土司}                              \n",
      "[6]  {黑森林蛋糕,红豆酥皮面包,芝士蛋糕}      \n",
      "[7]  {酥皮面包}                              \n",
      "[8]  {纯牛奶,蛋挞,豆奶}                      \n",
      "[9]  {咖啡,热狗}                             \n",
      "[10] {豆奶,汉堡包,奶茶,蒜香芝士面包,提子土司}\n"
     ]
    }
   ],
   "source": [
    "# 转化为transactions\n",
    "TransRep <- as(dataList, \"transactions\")\n",
    "# 查看item\n",
    "inspect(TransRep[1:10])"
   ]
  },
  {
   "cell_type": "code",
   "execution_count": 186,
   "metadata": {
    "ExecuteTime": {
     "end_time": "2020-04-09T11:04:21.926133Z",
     "start_time": "2020-04-09T11:04:21.866Z"
    }
   },
   "outputs": [
    {
     "name": "stdout",
     "output_type": "stream",
     "text": [
      "Apriori\n",
      "\n",
      "Parameter specification:\n",
      " confidence minval smax arem  aval originalSupport maxtime support minlen\n",
      "        0.4    0.1    1 none FALSE            TRUE       5    0.02      1\n",
      " maxlen target   ext\n",
      "     10  rules FALSE\n",
      "\n",
      "Algorithmic control:\n",
      " filter tree heap memopt load sort verbose\n",
      "    0.1 TRUE TRUE  FALSE TRUE    2    TRUE\n",
      "\n",
      "Absolute minimum support count: 1 \n",
      "\n",
      "set item appearances ...[0 item(s)] done [0.00s].\n",
      "set transactions ...[24 item(s), 60 transaction(s)] done [0.00s].\n",
      "sorting and recoding items ... [24 item(s)] done [0.00s].\n",
      "creating transaction tree ... done [0.00s].\n",
      "checking subsets of size 1 2 3 4 done [0.00s].\n",
      "writing ... [76 rule(s)] done [0.00s].\n",
      "creating S4 object  ... done [0.00s].\n",
      "     lhs                             rhs            support    confidence\n",
      "[1]  {纯牛奶,豆浆}                => {芝士蛋糕}     0.03333333 0.6666667 \n",
      "[2]  {蒜香芝士面包,提子土司}      => {汉堡包}       0.03333333 1.0000000 \n",
      "[3]  {汉堡包,提子土司}            => {蒜香芝士面包} 0.03333333 1.0000000 \n",
      "[4]  {汉堡包,蒜香芝士面包}        => {提子土司}     0.03333333 1.0000000 \n",
      "[5]  {豆奶,蒜香芝士面包}          => {提子土司}     0.03333333 1.0000000 \n",
      "[6]  {豆奶,蒜香芝士面包}          => {汉堡包}       0.03333333 1.0000000 \n",
      "[7]  {豆奶,蒜香芝士面包,提子土司} => {汉堡包}       0.03333333 1.0000000 \n",
      "[8]  {豆奶,汉堡包,提子土司}       => {蒜香芝士面包} 0.03333333 1.0000000 \n",
      "[9]  {豆奶,汉堡包,蒜香芝士面包}   => {提子土司}     0.03333333 1.0000000 \n",
      "[10] {咖啡,肉松面包}              => {法棍}         0.03333333 0.6666667 \n",
      "[11] {豆浆,咖啡}                  => {法棍}         0.03333333 0.6666667 \n",
      "[12] {豆奶,汉堡包}                => {提子土司}     0.03333333 0.6666667 \n",
      "[13] {豆奶,汉堡包}                => {蒜香芝士面包} 0.03333333 0.6666667 \n",
      "[14] {芝士蛋糕}                   => {红豆酥皮面包} 0.03333333 0.5000000 \n",
      "[15] {红豆酥皮面包}               => {芝士蛋糕}     0.03333333 0.4000000 \n",
      "[16] {豆奶,热狗}                  => {三明治}       0.03333333 1.0000000 \n",
      "[17] {豆奶,三明治}                => {热狗}         0.03333333 1.0000000 \n",
      "[18] {法棍,肉松面包}              => {咖啡}         0.03333333 1.0000000 \n",
      "[19] {豆浆,法棍}                  => {咖啡}         0.03333333 1.0000000 \n",
      "[20] {豆奶,提子土司}              => {蒜香芝士面包} 0.03333333 0.5000000 \n",
      "[21] {豆奶,提子土司}              => {汉堡包}       0.03333333 0.5000000 \n",
      "[22] {豆浆,虎皮蛋糕}              => {酥皮面包}     0.03333333 0.6666667 \n",
      "[23] {豆浆,酥皮面包}              => {虎皮蛋糕}     0.03333333 0.5000000 \n",
      "[24] {豆浆,咖啡}                  => {肉松面包}     0.03333333 0.6666667 \n",
      "[25] {纯牛奶,芝士蛋糕}            => {豆浆}         0.03333333 1.0000000 \n",
      "     lift      count\n",
      "[1]  10.000000 2    \n",
      "[2]  10.000000 2    \n",
      "[3]  10.000000 2    \n",
      "[4]  10.000000 2    \n",
      "[5]  10.000000 2    \n",
      "[6]  10.000000 2    \n",
      "[7]  10.000000 2    \n",
      "[8]  10.000000 2    \n",
      "[9]  10.000000 2    \n",
      "[10]  8.000000 2    \n",
      "[11]  8.000000 2    \n",
      "[12]  6.666667 2    \n",
      "[13]  6.666667 2    \n",
      "[14]  6.000000 2    \n",
      "[15]  6.000000 2    \n",
      "[16]  5.454545 2    \n",
      "[17]  5.454545 2    \n",
      "[18]  5.000000 2    \n",
      "[19]  5.000000 2    \n",
      "[20]  5.000000 2    \n",
      "[21]  5.000000 2    \n",
      "[22]  5.000000 2    \n",
      "[23]  5.000000 2    \n",
      "[24]  5.000000 2    \n",
      "[25]  4.615385 2    \n"
     ]
    }
   ],
   "source": [
    "RulesRep <- apriori(TransRep, parameter = list(support = 0.02, confidence = 0.4))\n",
    "# 排序\n",
    "inspect(sort(RulesRep, by = \"lift\")[1:25]) "
   ]
  },
  {
   "cell_type": "code",
   "execution_count": 187,
   "metadata": {
    "ExecuteTime": {
     "end_time": "2020-04-09T11:05:41.215172Z",
     "start_time": "2020-04-09T11:05:41.190Z"
    }
   },
   "outputs": [
    {
     "data": {
      "text/html": [],
      "text/latex": [],
      "text/markdown": [],
      "text/plain": [
       "integer(0)"
      ]
     },
     "metadata": {},
     "output_type": "display_data"
    }
   ],
   "source": [
    "which(installed.packages() == \"arulesViz\")"
   ]
  },
  {
   "cell_type": "code",
   "execution_count": null,
   "metadata": {
    "ExecuteTime": {
     "start_time": "2020-04-09T11:33:06.183Z"
    }
   },
   "outputs": [
    {
     "name": "stderr",
     "output_type": "stream",
     "text": [
      "Installing package into ‘/home/jianli/R/x86_64-pc-linux-gnu-library/3.4’\n",
      "(as ‘lib’ is unspecified)\n",
      "\n",
      "Warning message:\n",
      "“dependencies ‘TSP’, ‘caTools’ are not available”\n",
      "also installing the dependencies ‘gridExtra’, ‘viridis’, ‘gtools’, ‘gdata’, ‘tidyselect’, ‘plogr’, ‘qap’, ‘gclus’, ‘dendextend’, ‘gplots’, ‘registry’, ‘tidyr’, ‘hexbin’, ‘dplyr’, ‘data.table’, ‘scatterplot3d’, ‘seriation’, ‘igraph’, ‘plotly’, ‘visNetwork’\n",
      "\n",
      "\n"
     ]
    }
   ],
   "source": [
    "install.packages(\"arulesViz\")"
   ]
  }
 ],
 "metadata": {
  "kernelspec": {
   "display_name": "R",
   "language": "R",
   "name": "ir"
  },
  "language_info": {
   "codemirror_mode": "r",
   "file_extension": ".r",
   "mimetype": "text/x-r-source",
   "name": "R",
   "pygments_lexer": "r",
   "version": "3.4.4"
  },
  "toc": {
   "base_numbering": 1,
   "nav_menu": {},
   "number_sections": true,
   "sideBar": true,
   "skip_h1_title": false,
   "title_cell": "Table of Contents",
   "title_sidebar": "Contents",
   "toc_cell": false,
   "toc_position": {},
   "toc_section_display": true,
   "toc_window_display": false
  }
 },
 "nbformat": 4,
 "nbformat_minor": 2
}

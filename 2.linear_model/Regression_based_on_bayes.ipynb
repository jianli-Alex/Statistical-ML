{
 "cells": [
  {
   "cell_type": "markdown",
   "metadata": {},
   "source": [
    "# 先验概率和后验概率"
   ]
  },
  {
   "cell_type": "markdown",
   "metadata": {},
   "source": [
    "谈起贝叶斯，就不得不提先验概率和后验概率。先验概率通常是通过历史或者经验得来的，而后验概率则是综合利用了先验信息和样本信息。因此，贝叶斯统计的出发点也是基于后验概率的"
   ]
  },
  {
   "cell_type": "markdown",
   "metadata": {},
   "source": [
    "那么先验概率和后验概率实际上是怎样呢？以一个简单的例子为，由三家公司A、B、C合作生成一种产品，A公司承包50%的生产，B公司承包30%的生产，C公司承包剩下20%的生产。但是当这批货出现问题的时候，要怎么追究责任呢？在不知道其他信息的情况下，我们只能按生产量来绝对ABC的责任，我们只能要求A公司承担50%的责任，B公司承担30%的责任，C公司承担20%的责任。而“50%、30%、20%”也便是所谓的先验信息。"
   ]
  },
  {
   "cell_type": "markdown",
   "metadata": {
    "ExecuteTime": {
     "end_time": "2019-10-31T01:18:57.322724Z",
     "start_time": "2019-10-31T01:18:57.313729Z"
    }
   },
   "source": [
    "而当我们知道A、B、C公司生产的不合格分别为P(A)、P(B)、P(C)时，对于追究责任时又会发生不同的变化。\n",
    "$$\n",
    "P(A|不合格) = \\frac {0.5P(A)}{0.5P(A)+0.3P(B)+0.2P(C)}\\\\\n",
    "P(B|不合格) = \\frac {0.3P(B)}{0.5P(A)+0.3P(B)+0.2P(C)}\\\\\n",
    "P(C|不合格) = \\frac {0.5P(C)}{0.5P(A)+0.3P(B)+0.2P(C)}\\\\\n",
    "$$"
   ]
  },
  {
   "cell_type": "markdown",
   "metadata": {},
   "source": [
    "这里的$P(A|不合格)、P(B|不合格)、P(C|不合格)$就是所谓的后验概率，它通过综合利用先验信息和数据信息来决定A、B、C公司分别应该承担的责任。而实际上P(A)、P(B)、P(C)也是一种后验概率，也就是某一家公司生成的不合格率，写清晰一点就是$P(不合格|A)、P(不合格|B)、P(不合格|C)$"
   ]
  },
  {
   "cell_type": "markdown",
   "metadata": {
    "ExecuteTime": {
     "end_time": "2019-10-31T01:33:47.745824Z",
     "start_time": "2019-10-31T01:33:47.736829Z"
    }
   },
   "source": [
    "于是便有了著名的贝叶斯公式：\n",
    "$$\n",
    "P(A_1|B) = \\frac{P(A_1)P(B|A_1)}{\\sum_{i=1}^nP(A_i)P(B|A_i)}\n",
    "$$\n",
    "\n",
    "其中，$P(B) = \\sum_{i=1}^nP(A_i)P(B|A_i)$为全概率公式"
   ]
  },
  {
   "cell_type": "markdown",
   "metadata": {},
   "source": [
    "# 基于贝叶斯统计的估计思想"
   ]
  },
  {
   "cell_type": "markdown",
   "metadata": {},
   "source": [
    "在贝叶斯统计中，认为一切参数为随机变量。因此，对于线性模型$Y = X\\beta +\\varepsilon$，贝叶斯统计中同样也认为$\\beta$是一个随机变量，因此也服从一个分布$\\beta \\sim F(\\beta)$，而这个$F(\\beta)$也就是$\\beta$的一个先验分布。当固定X的时候，就称$F(\\beta|X)$为$\\beta$的后验分布，而这个分布综合了先验信息和数据信息。而贝叶斯统计的思路就是利用这个后验分布求后验均值/中位数等来作为$\\beta$。\n",
    "\n",
    "以后验均值为例：(对于后验密度函数$f(\\beta|X)$)\n",
    "$$\n",
    "\\hat \\beta = E(\\beta) = \\int_{- \\infty}^{+ \\infty} \\beta f(\\beta|X) d\\beta = \\int_{- \\infty}^{+ \\infty} \\beta \\frac{f(\\beta) f(X|\\beta)}{f(X)} d\\beta = \\frac{1}{f(X)} \\int_{- \\infty}^{+ \\infty} \\beta f(\\beta) f(X|\\beta) d\\beta\n",
    "$$\n",
    "\n",
    "我们也把$f(\\beta) f(X|\\beta)$称为核"
   ]
  },
  {
   "cell_type": "markdown",
   "metadata": {
    "ExecuteTime": {
     "end_time": "2019-10-31T01:53:49.009654Z",
     "start_time": "2019-10-31T01:53:49.001662Z"
    }
   },
   "source": [
    "由上述可以看出$f(\\beta|X)$应该是和$f(\\beta) f(X|\\beta)$成正比的，就差了一个常数，即有：\n",
    "$$\n",
    "f(\\beta|X) \\propto f(\\beta) f(X|\\beta) = \\pi(\\beta)L(\\beta, X)\n",
    "$$\n",
    "其中，$\\pi(\\beta)$指的是先验信息，$f(X|\\beta)$就相当于似然函数，因为我们之前求似然函数的时候也是把$\\beta$固定后写出的。"
   ]
  },
  {
   "cell_type": "markdown",
   "metadata": {
    "ExecuteTime": {
     "end_time": "2019-10-31T01:59:39.054674Z",
     "start_time": "2019-10-31T01:59:39.049676Z"
    }
   },
   "source": [
    "# 线性模型再议 "
   ]
  },
  {
   "cell_type": "markdown",
   "metadata": {
    "ExecuteTime": {
     "end_time": "2019-10-31T02:24:50.247666Z",
     "start_time": "2019-10-31T02:24:50.240670Z"
    }
   },
   "source": [
    "这里只议论假设1的情况，其他的假设也是类似的"
   ]
  },
  {
   "cell_type": "markdown",
   "metadata": {
    "ExecuteTime": {
     "end_time": "2019-10-31T02:09:16.225378Z",
     "start_time": "2019-10-31T02:09:16.214385Z"
    }
   },
   "source": [
    "当我们的模型基于假设1的时候，即$\\varepsilon \\sim N(0, \\sigma^2I_n)$\n",
    "$$\n",
    "L(\\beta, \\sigma^2, Y, X) = (\\frac{1}{\\sqrt{2\\pi}\\sigma})^n e^{- \\frac{1}{2 \\sigma^2} \\displaystyle \\sum_{i=1}^n(y_i - x_i\\beta)^2}\n",
    "$$"
   ]
  },
  {
   "cell_type": "markdown",
   "metadata": {},
   "source": [
    "因此，有：\n",
    "\\begin{equation}\n",
    "    \\begin{split}\n",
    "        f(\\beta|(x,y)) & \\propto \\pi(\\beta)(\\frac{1}{\\sqrt{2\\pi}\\sigma})^n e^{- \\frac{1}{2 \\sigma^2} \\displaystyle \\sum_{i=1}^n(y_i - x_i\\beta)^2}\\\\\n",
    "                    & \\propto \\pi(\\beta) e^{- \\frac{1}{2 \\sigma^2} \\displaystyle \\sum_{i=1}^n(y_i - x_i\\beta)^2}\n",
    "    \\end{split}\n",
    "\\end{equation}"
   ]
  },
  {
   "cell_type": "markdown",
   "metadata": {
    "ExecuteTime": {
     "end_time": "2019-10-31T02:19:07.364402Z",
     "start_time": "2019-10-31T02:19:07.356406Z"
    }
   },
   "source": [
    "其实我们可以发现$f(\\beta|(x,y))$也有$\\sum_{i=1}^n(y_i - x_i\\beta)^2$的部分，这正好也对应着损失函数，此外在这里的先验概率$\\pi(\\beta)$实际上是由我们来定的。"
   ]
  },
  {
   "cell_type": "markdown",
   "metadata": {},
   "source": [
    "# 先验信息的确定方法"
   ]
  },
  {
   "cell_type": "markdown",
   "metadata": {},
   "source": [
    "## 无信息先验"
   ]
  },
  {
   "cell_type": "markdown",
   "metadata": {
    "ExecuteTime": {
     "end_time": "2019-10-31T02:26:59.398569Z",
     "start_time": "2019-10-31T02:26:59.390574Z"
    }
   },
   "source": [
    "当我们对$\\beta$一无所知的时候，那么我们便认为取任何值都是等可能的，此时的先验概率$\\pi(\\beta) \\propto k$，k为常数"
   ]
  },
  {
   "cell_type": "markdown",
   "metadata": {},
   "source": [
    "## 共轭先验"
   ]
  },
  {
   "cell_type": "markdown",
   "metadata": {
    "ExecuteTime": {
     "end_time": "2019-10-31T02:37:16.375611Z",
     "start_time": "2019-10-31T02:37:16.370613Z"
    }
   },
   "source": [
    "所谓共轭先验也就是取一个先验概率，乘以似然函数，不会改变似然的分布。例如正态分布和正态分布是共轭的，伽马分布和伽马分布是共轭的"
   ]
  },
  {
   "cell_type": "markdown",
   "metadata": {
    "ExecuteTime": {
     "end_time": "2019-10-31T02:46:40.243681Z",
     "start_time": "2019-10-31T02:46:40.235686Z"
    }
   },
   "source": [
    "根据共轭先验，我们可以设$\\pi(\\beta) \\sim N(\\beta, \\sigma_{\\beta}^2)$，即$\\pi(\\beta) \\propto e^{a\\beta^2 + b\\beta + c}$,之后只要对$\\pi(\\beta)L(\\beta, \\sigma^2, Y, X)$进行配平方，配成$e^{-\\frac{(x - \\mu)^2}{2\\sigma^2}}$的形式，里面的$\\mu$就是我们要求的估计"
   ]
  },
  {
   "cell_type": "markdown",
   "metadata": {
    "ExecuteTime": {
     "end_time": "2019-10-31T02:54:39.482742Z",
     "start_time": "2019-10-31T02:54:39.472747Z"
    }
   },
   "source": [
    "而如果对$\\sigma^2$来说，\n",
    "\\begin{equation}\n",
    "    \\begin{split}\n",
    "f(\\sigma^2|X,Y) & \\propto \\pi(\\sigma^2)L(\\beta, \\sigma^2, Y, X)\\\\\n",
    "    & \\propto \\pi(\\sigma^2)(\\sigma^2)^{\\frac{-n}{2}}e^{\\frac{-k}{\\sigma^2}}    \n",
    "    \\end{split}\n",
    "\\end{equation}\n",
    "\n",
    "其中，$k= \\frac{1}{2} \\sum_{i=1}^n(y_i - x_i\\beta)^2$\n",
    "\n",
    "可以看出似然函数应该是一个伽马分布($p(x) = \\frac {\\lambda^\\alpha}{\\Gamma(\\alpha)}x^{\\alpha - 1}e^{\\alpha x}$)，那么根据共轭先验$\\pi(\\sigma)$应该也是一个伽马分布"
   ]
  },
  {
   "cell_type": "markdown",
   "metadata": {},
   "source": [
    "## 信息最大"
   ]
  },
  {
   "cell_type": "markdown",
   "metadata": {
    "ExecuteTime": {
     "end_time": "2019-10-31T03:08:18.386966Z",
     "start_time": "2019-10-31T03:08:18.199076Z"
    }
   },
   "source": [
    "这种方法是这几种方法里面最有含金量的"
   ]
  }
 ],
 "metadata": {
  "kernelspec": {
   "display_name": "Python 3",
   "language": "python",
   "name": "python3"
  },
  "language_info": {
   "codemirror_mode": {
    "name": "ipython",
    "version": 3
   },
   "file_extension": ".py",
   "mimetype": "text/x-python",
   "name": "python",
   "nbconvert_exporter": "python",
   "pygments_lexer": "ipython3",
   "version": "3.7.3"
  },
  "toc": {
   "base_numbering": 1,
   "nav_menu": {},
   "number_sections": true,
   "sideBar": true,
   "skip_h1_title": false,
   "title_cell": "Table of Contents",
   "title_sidebar": "Contents",
   "toc_cell": false,
   "toc_position": {},
   "toc_section_display": true,
   "toc_window_display": true
  }
 },
 "nbformat": 4,
 "nbformat_minor": 2
}

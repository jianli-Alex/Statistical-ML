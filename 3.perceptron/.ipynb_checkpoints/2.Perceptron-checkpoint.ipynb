{
 "cells": [
  {
   "cell_type": "code",
   "execution_count": 60,
   "metadata": {
    "ExecuteTime": {
     "end_time": "2020-03-24T05:57:07.045353Z",
     "start_time": "2020-03-24T05:57:07.016854Z"
    }
   },
   "outputs": [
    {
     "name": "stdout",
     "output_type": "stream",
     "text": [
      "Pretty printing has been turned OFF\n"
     ]
    }
   ],
   "source": [
    "%config InteractiveShell.ast_node_interactivity = 'all'\n",
    "%pprint"
   ]
  },
  {
   "cell_type": "markdown",
   "metadata": {
    "ExecuteTime": {
     "end_time": "2020-03-23T03:15:35.455022Z",
     "start_time": "2020-03-23T03:15:35.448059Z"
    }
   },
   "source": [
    "### 假设函数"
   ]
  },
  {
   "cell_type": "markdown",
   "metadata": {
    "ExecuteTime": {
     "end_time": "2020-03-23T01:06:55.376857Z",
     "start_time": "2020-03-23T01:06:55.372577Z"
    }
   },
   "source": [
    "- 输入(N个样本，n个特征)：$\\{x_i^{(1)}, x_i^{(2)}, ..., x_i^{(n)}\\}_{i = 1}^{N}$\n",
    "- 输出：{+1, -1}\n",
    "- 目的：感知机的模型就是尝试找到一个超平面（线性决策边界），能够把所有的二元类别隔离开。\n",
    "- 假设函数：$f(x) = sign(w^Tx + b)$"
   ]
  },
  {
   "cell_type": "markdown",
   "metadata": {
    "ExecuteTime": {
     "end_time": "2020-03-23T01:12:56.486503Z",
     "start_time": "2020-03-23T01:12:56.479710Z"
    }
   },
   "source": [
    "我们希望找到一个超平面或决策边界：\n",
    "\n",
    "$w_1x_1 + w_2x_2 + ... + w_nx_n + b = 0$ => $w^Tx + b = 0$\n",
    "\n",
    "通过超平面和决策边界，将不同类别的数据分开\n",
    "\n",
    "$y = sign(w^Tx + b)$\n",
    "\n",
    "其中：$sign(x) = \\begin{cases} +1, x\\geq 0 \\\\ -1, x < 0\\end{cases}$"
   ]
  },
  {
   "cell_type": "markdown",
   "metadata": {},
   "source": [
    "<img alt='Perceptron' src='../input/img/Perceptron.jpg' width=50% height=50%/>"
   ]
  },
  {
   "cell_type": "markdown",
   "metadata": {},
   "source": [
    "### 策略"
   ]
  },
  {
   "cell_type": "markdown",
   "metadata": {
    "ExecuteTime": {
     "end_time": "2020-03-23T01:38:54.865068Z",
     "start_time": "2020-03-23T01:38:54.861156Z"
    }
   },
   "source": [
    "- 使用经验风险最小化\n",
    "    - 代价函数为$J(w, b) = - \\sum_{x_i \\in M_{error}} y_i(w^Tx_i + b)$"
   ]
  },
  {
   "cell_type": "markdown",
   "metadata": {},
   "source": [
    "实际上对于分类问题，标记可以定义不同的数值。像在logistic回归中，标记被定义为0和1（因为sigmoid函数将输出映射到0-1的范围里）。而在感知机里使用+1和-1是为了能够更容易地区分正确分类和误分类的样本，方便定义优化目标"
   ]
  },
  {
   "cell_type": "markdown",
   "metadata": {},
   "source": [
    "**2.1 正确分类 vs 误分类**\n",
    "\n",
    "- 正确分类的情况：当$w^Tx_i + b > 0$时，划分为y_i = +1，当$w^Tx_i + b < 0$时，划分为$y_i = -1$\n",
    "    - $y_i(w^Tx_i + b) > 0$\n",
    "\n",
    "\n",
    "- 误分类的情况：当$w^Tx_i + b > 0$时，划分为y_i = -1，当$w^Tx_i + b < 0$时，划分为$y_i = +1$\n",
    "    - $-y_i(w^Tx_i + b) > 0$"
   ]
  },
  {
   "cell_type": "markdown",
   "metadata": {},
   "source": [
    "**2.2 损失函数的选择**\n",
    "- 误分类点的总数\n",
    "    - 不是参数$w$和$b$的连续函数，不易优化\n",
    "- 误分类点到超平面的总距离\n",
    "    - 感知机所采用"
   ]
  },
  {
   "cell_type": "markdown",
   "metadata": {
    "ExecuteTime": {
     "end_time": "2020-03-23T02:10:25.466876Z",
     "start_time": "2020-03-23T02:10:25.462887Z"
    }
   },
   "source": [
    "**2.3 误分类点到超平面的距离**"
   ]
  },
  {
   "cell_type": "markdown",
   "metadata": {},
   "source": [
    "以三维空间中一点到平面为例"
   ]
  },
  {
   "cell_type": "markdown",
   "metadata": {},
   "source": [
    "<img alt='point_plane_distance' src='../input/img/point_plane_distance.jpg' width=40% height=40%/>"
   ]
  },
  {
   "cell_type": "markdown",
   "metadata": {
    "ExecuteTime": {
     "end_time": "2020-03-23T02:16:00.770651Z",
     "start_time": "2020-03-23T02:16:00.759174Z"
    }
   },
   "source": [
    "点P到平面的距离d为<br/>\n",
    "$d = Prj_{\\vec w} \\vec {MP} = |\\vec {MP}|cos\\theta = |\\vec {MP}|\\frac{\\vec{MP} \\vec{w}}{|\\vec {MP}||\\vec {M}|} = \\frac{\\vec {MP} \\vec{w}}{|\\vec {w}|} = \\frac{A(x_1 - x_0) + B(y_1 - y_0) + C(z_1 - z_0)}{\\sqrt{A^2 + B^2 +C^2}} = \\frac{|Ax_1 + By_1 +Cz_1 + D|}{\\sqrt{A^2 + B^2 +C^2}}$\n",
    "\n",
    "其中，$Ax_0 + By_0 +Cz_0 + D = 0$"
   ]
  },
  {
   "cell_type": "markdown",
   "metadata": {
    "ExecuteTime": {
     "end_time": "2020-03-23T02:28:52.003516Z",
     "start_time": "2020-03-23T02:28:51.999777Z"
    }
   },
   "source": [
    "因此，误分类点$x_i$到超平面的距离为：\n",
    "$\\frac{|w^Tx_i + b|}{\\parallel w \\parallel}$\n",
    "\n",
    "- 绝对值不可导，用连续函数来代替\n",
    "    - $|w^Tx_i + b| = -y_i(w^Tx_i + b) > 0$\n",
    "- 所有误分类点到超平面的总距离\n",
    "    - $- \\frac{\\sum_{x_i \\in M_{error}} y_i(w^Tx_i + b)}{\\parallel w \\parallel}$\n",
    "    - 常数不影响优化结果"
   ]
  },
  {
   "cell_type": "markdown",
   "metadata": {
    "ExecuteTime": {
     "end_time": "2020-03-23T02:33:47.648985Z",
     "start_time": "2020-03-23T02:33:47.639422Z"
    }
   },
   "source": [
    "假设所有误分类的点的集合为$M_{error}$，对所有误分类的样本距离进行求和得到感知机模型的代价函数为：$J(w, b) = - \\sum_{x_i \\in M_{error}} y_i(w^Tx_i + b)$"
   ]
  },
  {
   "cell_type": "markdown",
   "metadata": {},
   "source": [
    "### 算法"
   ]
  },
  {
   "cell_type": "markdown",
   "metadata": {},
   "source": [
    "采用随机梯度下降（SGD）来进行算法优化，不能采用基于所有样本的批量梯度下降法（BGD）来进行算法的优化\n",
    "- 因为只有属于误分类集合的样本才能参与损失函数的优化\n",
    "- 优化中每次仅仅需要使用一个误分类的点来更新梯度\n",
    "    - $w:= w + \\alpha x_iy_i$\n",
    "    - $b:= w + \\alpha y_i$\n",
    "    - 其中，$\\alpha$为步长，$y_i$取值为{+1，-1}"
   ]
  },
  {
   "cell_type": "markdown",
   "metadata": {},
   "source": [
    "### 模型总结"
   ]
  },
  {
   "cell_type": "markdown",
   "metadata": {
    "ExecuteTime": {
     "end_time": "2020-03-23T02:59:07.223313Z",
     "start_time": "2020-03-23T02:59:07.218799Z"
    }
   },
   "source": [
    "训练集中包含N个样例（example），样本有n个特征，标记为二分类取值{-1, 1}\n",
    "- 样例形式：$\\{x_i^{(1)}, x_i^{(2)}, ..., x_i^{(n)}, y_i\\}_{i = 1}^{N}$\n",
    "\n",
    "线性决策边界的模型系数$w, b$\n",
    "\n",
    "算法的执行步骤：\n",
    "1. 初始化模型系数 $w, b$和步长$\\alpha$。\n",
    "2. 在训练集里面选择一个误分类的点$(x_i, y_i)$，这个点应该满足: $-y_i(w^Tx_i + b) > 0$\n",
    "3. 对$w$和$b$向量进行一次随机梯度下降的迭代\n",
    "    - $w:= w + \\alpha x_iy_i$\n",
    "    - $b:= w + \\alpha y_i$\n",
    "4. 检查训练集里是否还有误分类的点，如果没有，算法结束。如果有，继续第 2 步"
   ]
  },
  {
   "cell_type": "markdown",
   "metadata": {},
   "source": [
    "### 算法的实现"
   ]
  },
  {
   "cell_type": "code",
   "execution_count": 7,
   "metadata": {
    "ExecuteTime": {
     "end_time": "2020-04-12T16:03:48.783475Z",
     "start_time": "2020-04-12T16:03:48.774257Z"
    }
   },
   "outputs": [],
   "source": [
    "import numpy as np\n",
    "import pandas as pd\n",
    "from sklearn.datasets import load_iris\n",
    "import matplotlib.pyplot as plt\n",
    "\n",
    "%matplotlib inline\n",
    "# 设置图形尺寸\n",
    "plt.rcParams['figure.figsize'] = [14, 7]"
   ]
  },
  {
   "cell_type": "markdown",
   "metadata": {},
   "source": [
    "#### 数据查看"
   ]
  },
  {
   "cell_type": "code",
   "execution_count": 2,
   "metadata": {
    "ExecuteTime": {
     "end_time": "2020-04-12T16:03:36.504983Z",
     "start_time": "2020-04-12T16:03:36.497238Z"
    }
   },
   "outputs": [
    {
     "name": "stdout",
     "output_type": "stream",
     "text": [
      "data\n",
      "target\n",
      "target_names\n",
      "DESCR\n",
      "feature_names\n",
      "filename\n"
     ]
    }
   ],
   "source": [
    "# 返回像字典一样的对象Bunch\n",
    "iris = load_iris()\n",
    "# 查看iris中的keys\n",
    "for key in iris.keys():\n",
    "    print(key)"
   ]
  },
  {
   "cell_type": "code",
   "execution_count": 3,
   "metadata": {
    "ExecuteTime": {
     "end_time": "2020-04-12T16:03:37.839834Z",
     "start_time": "2020-04-12T16:03:37.816518Z"
    }
   },
   "outputs": [
    {
     "data": {
      "text/html": [
       "<div>\n",
       "<style scoped>\n",
       "    .dataframe tbody tr th:only-of-type {\n",
       "        vertical-align: middle;\n",
       "    }\n",
       "\n",
       "    .dataframe tbody tr th {\n",
       "        vertical-align: top;\n",
       "    }\n",
       "\n",
       "    .dataframe thead th {\n",
       "        text-align: right;\n",
       "    }\n",
       "</style>\n",
       "<table border=\"1\" class=\"dataframe\">\n",
       "  <thead>\n",
       "    <tr style=\"text-align: right;\">\n",
       "      <th></th>\n",
       "      <th>sepal length</th>\n",
       "      <th>sepal width</th>\n",
       "      <th>petal length</th>\n",
       "      <th>petal width</th>\n",
       "      <th>label</th>\n",
       "    </tr>\n",
       "  </thead>\n",
       "  <tbody>\n",
       "    <tr>\n",
       "      <td>0</td>\n",
       "      <td>5.1</td>\n",
       "      <td>3.5</td>\n",
       "      <td>1.4</td>\n",
       "      <td>0.2</td>\n",
       "      <td>0</td>\n",
       "    </tr>\n",
       "    <tr>\n",
       "      <td>1</td>\n",
       "      <td>4.9</td>\n",
       "      <td>3.0</td>\n",
       "      <td>1.4</td>\n",
       "      <td>0.2</td>\n",
       "      <td>0</td>\n",
       "    </tr>\n",
       "    <tr>\n",
       "      <td>2</td>\n",
       "      <td>4.7</td>\n",
       "      <td>3.2</td>\n",
       "      <td>1.3</td>\n",
       "      <td>0.2</td>\n",
       "      <td>0</td>\n",
       "    </tr>\n",
       "    <tr>\n",
       "      <td>3</td>\n",
       "      <td>4.6</td>\n",
       "      <td>3.1</td>\n",
       "      <td>1.5</td>\n",
       "      <td>0.2</td>\n",
       "      <td>0</td>\n",
       "    </tr>\n",
       "    <tr>\n",
       "      <td>4</td>\n",
       "      <td>5.0</td>\n",
       "      <td>3.6</td>\n",
       "      <td>1.4</td>\n",
       "      <td>0.2</td>\n",
       "      <td>0</td>\n",
       "    </tr>\n",
       "  </tbody>\n",
       "</table>\n",
       "</div>"
      ],
      "text/plain": [
       "   sepal length  sepal width  petal length  petal width  label\n",
       "0           5.1          3.5           1.4          0.2      0\n",
       "1           4.9          3.0           1.4          0.2      0\n",
       "2           4.7          3.2           1.3          0.2      0\n",
       "3           4.6          3.1           1.5          0.2      0\n",
       "4           5.0          3.6           1.4          0.2      0"
      ]
     },
     "execution_count": 3,
     "metadata": {},
     "output_type": "execute_result"
    }
   ],
   "source": [
    "# 选取data和target\n",
    "# 使用iris.data或iris['data']提前数据\n",
    "iris_df = pd.DataFrame(data = iris.data, columns = iris.feature_names)\n",
    "iris_df.columns\n",
    "# 修改列名\n",
    "iris_df.columns = ['sepal length', 'sepal width', 'petal length', 'petal width']\n",
    "# 添加标记\n",
    "iris_df['label'] = iris.target\n",
    "# 查看数据前几行\n",
    "iris_df.head()"
   ]
  },
  {
   "cell_type": "code",
   "execution_count": 4,
   "metadata": {
    "ExecuteTime": {
     "end_time": "2020-04-12T16:03:40.785478Z",
     "start_time": "2020-04-12T16:03:40.769117Z"
    }
   },
   "outputs": [
    {
     "data": {
      "text/plain": [
       "2    50\n",
       "1    50\n",
       "0    50\n",
       "Name: label, dtype: int64"
      ]
     },
     "execution_count": 4,
     "metadata": {},
     "output_type": "execute_result"
    }
   ],
   "source": [
    "# 统计类别数量\n",
    "iris_df.label.value_counts()"
   ]
  },
  {
   "cell_type": "code",
   "execution_count": 8,
   "metadata": {
    "ExecuteTime": {
     "end_time": "2020-04-12T16:03:51.827697Z",
     "start_time": "2020-04-12T16:03:51.616681Z"
    }
   },
   "outputs": [
    {
     "data": {
      "text/plain": [
       "<matplotlib.legend.Legend at 0x7f6fbae85a90>"
      ]
     },
     "execution_count": 8,
     "metadata": {},
     "output_type": "execute_result"
    },
    {
     "data": {
      "image/png": "[encoded data removed]",
      "text/plain": [
       "<Figure size 1008x504 with 1 Axes>"
      ]
     },
     "metadata": {
      "needs_background": "light"
     },
     "output_type": "display_data"
    }
   ],
   "source": [
    "# 画类别0和1的图，特征为sepal\n",
    "plt.scatter(x = iris_df.loc[iris_df.label == 0, \"sepal length\"], y = iris_df.loc[iris_df.label == 0, 'sepal width'], label = '0')\n",
    "plt.scatter(x = iris_df[50:100]['sepal length'], y = iris_df[50:100]['sepal width'], label = '1')\n",
    "plt.xlabel('sepal length')\n",
    "plt.ylabel('sepal width')\n",
    "plt.legend()"
   ]
  },
  {
   "cell_type": "markdown",
   "metadata": {},
   "source": [
    "#### 训练集采集"
   ]
  },
  {
   "cell_type": "code",
   "execution_count": 9,
   "metadata": {
    "ExecuteTime": {
     "end_time": "2020-04-12T16:03:56.506185Z",
     "start_time": "2020-04-12T16:03:56.490048Z"
    }
   },
   "outputs": [],
   "source": [
    "# 选取标签0-1作为训练集\n",
    "data = np.array(iris_df.iloc[:100, [0, 1, -1]])\n",
    "# 特征和标记\n",
    "X, y = data[:, :2], data[:, -1]\n",
    "# 标记0变-1\n",
    "# y = np.array([value if value == 1 else -1 for value in y])\n",
    "y[y == 0] = -1"
   ]
  },
  {
   "cell_type": "markdown",
   "metadata": {
    "ExecuteTime": {
     "end_time": "2020-03-23T03:22:10.366275Z",
     "start_time": "2020-03-23T03:22:10.354549Z"
    }
   },
   "source": [
    "#### 感知机的实现"
   ]
  },
  {
   "cell_type": "code",
   "execution_count": 102,
   "metadata": {
    "ExecuteTime": {
     "end_time": "2020-03-24T07:41:26.938088Z",
     "start_time": "2020-03-24T07:41:26.925153Z"
    }
   },
   "outputs": [],
   "source": [
    "class perceptron_model():\n",
    "    \"\"\"\n",
    "    功能：实现感知机(二分类)\n",
    "    适用场景：数据线性可分\n",
    "    参数 max_iter：最大迭代次数，避免数据线性不可分，最终无法收敛\n",
    "    \"\"\"\n",
    "    def __init__(self, alpha = 0.001, max_iter = 1000):\n",
    "        self.w = None\n",
    "        self.b = 0\n",
    "        self.lr = alpha\n",
    "        self.iter_num = max_iter\n",
    "        \n",
    "    def linear_model(self, x, w, b):\n",
    "        \"\"\"\n",
    "        功能：实现线性变换\n",
    "        参数 x, w, b分别代表输入，权重和偏置项（均为ndarray）\n",
    "        \"\"\"\n",
    "        return np.dot(w, x) + b\n",
    "    \n",
    "    def fit(self, feature_train, label_train):\n",
    "        \"\"\"\n",
    "        功能：感知机训练\n",
    "        参数 feature_train：训练集的输入\n",
    "        参数 label_train：训练集的输出\n",
    "        \"\"\"\n",
    "        # 状态值\n",
    "        iter_num, error_num = 0, 0\n",
    "        wrong_state = True\n",
    "        # 权重初始化\n",
    "        feature_size, data_dim = len(feature_train[0]), feature_train.shape[0]\n",
    "        self.w = np.ones(feature_size)\n",
    "        \n",
    "        # 随机梯度\n",
    "        while((iter_num < self.iter_num) and wrong_state):\n",
    "            for dim in range(data_dim):\n",
    "                feature = feature_train[dim]\n",
    "                label = label_train[dim]\n",
    "                \n",
    "                # 误分类点n\n",
    "                if label * self.linear_model(feature, self.w, self.b) <= 0:\n",
    "                    self.w += self.lr * np.dot(label, feature)\n",
    "                    self.b += self.lr * label\n",
    "                    error_num += 1\n",
    "            \n",
    "            # 判断是否收敛\n",
    "            if error_num > 0:\n",
    "                error_num = 0\n",
    "            else:\n",
    "                wrong_state = False\n",
    "            \n",
    "            iter_num += 1\n",
    "            \n",
    "        return 'Perceptron_model(iter_num = %d, total_iter_num = %d, lr = %f)' %(self.iter_num, iter_num, self.lr)"
   ]
  },
  {
   "cell_type": "code",
   "execution_count": 114,
   "metadata": {
    "ExecuteTime": {
     "end_time": "2020-03-24T07:42:40.078711Z",
     "start_time": "2020-03-24T07:42:40.022366Z"
    }
   },
   "outputs": [
    {
     "data": {
      "text/plain": [
       "'Perceptron_model(iter_num = 1000, total_iter_num = 94, lr = 0.001000)'"
      ]
     },
     "execution_count": 114,
     "metadata": {},
     "output_type": "execute_result"
    }
   ],
   "source": [
    "perceptron = perceptron_model()\n",
    "perceptron.fit(X, y)"
   ]
  },
  {
   "cell_type": "code",
   "execution_count": null,
   "metadata": {},
   "outputs": [],
   "source": []
  },
  {
   "cell_type": "code",
   "execution_count": 45,
   "metadata": {
    "ExecuteTime": {
     "end_time": "2020-03-24T05:40:47.429317Z",
     "start_time": "2020-03-24T05:40:47.226470Z"
    }
   },
   "outputs": [
    {
     "data": {
      "text/plain": [
       "<matplotlib.legend.Legend at 0x7ff42367c9d0>"
      ]
     },
     "execution_count": 45,
     "metadata": {},
     "output_type": "execute_result"
    },
    {
     "data": {
      "image/png": "[encoded data removed]",
      "text/plain": [
       "<Figure size 1008x504 with 1 Axes>"
      ]
     },
     "metadata": {
      "needs_background": "light"
     },
     "output_type": "display_data"
    }
   ],
   "source": [
    "x_points = np.linspace(4, 7,10)\n",
    "# \n",
    "y_ = -(perceptron.w[0]*x_points + perceptron.b)/perceptron.w[1]\n",
    "plt.plot(x_points, y_)\n",
    "\n",
    "plt.plot(data[:50, 0], data[:50, 1], 'bo', color='blue', label='0')\n",
    "plt.plot(data[50:100, 0], data[50:100, 1], 'bo', color='orange', label='1')\n",
    "plt.xlabel('sepal length')\n",
    "plt.ylabel('sepal width')\n",
    "plt.legend()"
   ]
  },
  {
   "cell_type": "markdown",
   "metadata": {},
   "source": [
    "### 应用场景与缺陷"
   ]
  },
  {
   "cell_type": "markdown",
   "metadata": {
    "ExecuteTime": {
     "end_time": "2020-03-23T03:41:02.662039Z",
     "start_time": "2020-03-23T03:41:02.650137Z"
    }
   },
   "source": [
    "- 感知机仅限于数据线性可分的情况，对于线性不可分的情况，该算法不收敛。\n",
    "- 感知机的收敛步数受两类别之间间隔的影响。间隔越小，收敛的步数越大。"
   ]
  },
  {
   "cell_type": "markdown",
   "metadata": {},
   "source": [
    "### 其他"
   ]
  },
  {
   "cell_type": "markdown",
   "metadata": {
    "ExecuteTime": {
     "end_time": "2020-03-23T03:43:45.862521Z",
     "start_time": "2020-03-23T03:43:45.851007Z"
    }
   },
   "source": [
    "从感知机的分类原理中，可以看出满足条件的超平面并不止一个，不同的超平面依赖于参数的初始值。也就是说感知机模型可以有多个解。\n",
    "- 泛化能力最好的决策超平面\n",
    "    - 能够将两个类型的样本分开\n",
    "    - 能够最大化决策边界附近的两类型之间的距离"
   ]
  }
 ],
 "metadata": {
  "kernelspec": {
   "display_name": "Python 3",
   "language": "python",
   "name": "python3"
  },
  "language_info": {
   "codemirror_mode": {
    "name": "ipython",
    "version": 3
   },
   "file_extension": ".py",
   "mimetype": "text/x-python",
   "name": "python",
   "nbconvert_exporter": "python",
   "pygments_lexer": "ipython3",
   "version": "3.7.4"
  },
  "toc": {
   "base_numbering": 1,
   "nav_menu": {},
   "number_sections": true,
   "sideBar": true,
   "skip_h1_title": false,
   "title_cell": "Table of Contents",
   "title_sidebar": "Contents",
   "toc_cell": false,
   "toc_position": {},
   "toc_section_display": true,
   "toc_window_display": false
  }
 },
 "nbformat": 4,
 "nbformat_minor": 2
}

{
 "cells": [
  {
   "cell_type": "markdown",
   "metadata": {},
   "source": [
    "测试能否直接调用code中的代码实现各种版本的感知机"
   ]
  },
  {
   "cell_type": "code",
   "execution_count": 1,
   "metadata": {
    "ExecuteTime": {
     "end_time": "2020-07-21T17:09:30.346223Z",
     "start_time": "2020-07-21T17:09:30.320126Z"
    }
   },
   "outputs": [
    {
     "name": "stdout",
     "output_type": "stream",
     "text": [
      "Pretty printing has been turned OFF\n"
     ]
    }
   ],
   "source": [
    "%config ZMQInteractiveShell.ast_node_interactivity = \"all\"\n",
    "%pprint"
   ]
  },
  {
   "cell_type": "code",
   "execution_count": 2,
   "metadata": {
    "ExecuteTime": {
     "end_time": "2020-07-21T17:09:30.833703Z",
     "start_time": "2020-07-21T17:09:30.429993Z"
    }
   },
   "outputs": [],
   "source": [
    "import sys\n",
    "sys.path.append(\"../code\")\n",
    "\n",
    "from perceptron import model_perceptron, perceptron_dual, perceptron_ovr, perceptron_ovo\n",
    "from draw import decision_plot\n",
    "import numpy as np\n",
    "import pandas as pd\n",
    "import matplotlib.pyplot as plt"
   ]
  },
  {
   "cell_type": "code",
   "execution_count": 3,
   "metadata": {
    "ExecuteTime": {
     "end_time": "2020-07-21T17:09:31.113051Z",
     "start_time": "2020-07-21T17:09:30.834840Z"
    }
   },
   "outputs": [],
   "source": [
    "from sklearn.datasets import load_iris\n",
    "from sklearn.model_selection import train_test_split\n",
    "import warnings\n",
    "warnings.filterwarnings(\"ignore\")"
   ]
  },
  {
   "cell_type": "code",
   "execution_count": 4,
   "metadata": {
    "ExecuteTime": {
     "end_time": "2020-07-21T17:09:31.117056Z",
     "start_time": "2020-07-21T17:09:31.114409Z"
    }
   },
   "outputs": [],
   "source": [
    "plt.rcParams[\"figure.figsize\"] = [14, 7]\n",
    "plt.rcParams[\"font.size\"] = 14"
   ]
  },
  {
   "cell_type": "code",
   "execution_count": 5,
   "metadata": {
    "ExecuteTime": {
     "end_time": "2020-07-21T17:09:31.236247Z",
     "start_time": "2020-07-21T17:09:31.232245Z"
    }
   },
   "outputs": [],
   "source": [
    "iris_data = load_iris()\n",
    "xdata = iris_data[\"data\"]\n",
    "ydata = iris_data[\"target\"]"
   ]
  },
  {
   "cell_type": "code",
   "execution_count": 6,
   "metadata": {
    "ExecuteTime": {
     "end_time": "2020-07-21T17:09:31.426310Z",
     "start_time": "2020-07-21T17:09:31.413041Z"
    }
   },
   "outputs": [
    {
     "name": "stdout",
     "output_type": "stream",
     "text": [
      "fit model_perceptron(alpha = 0.001, max_iter_epoch = 1000, total_iter_epoch = 6)\n"
     ]
    },
    {
     "data": {
      "text/plain": [
       "array([ 1.,  1.,  1.,  1., -1.,  1., -1.,  1.,  1., -1.,  1.,  1.,  1.,\n",
       "        1., -1.,  1., -1., -1., -1.,  1.,  1.,  1.,  1., -1.,  1.])"
      ]
     },
     "execution_count": 6,
     "metadata": {},
     "output_type": "execute_result"
    },
    {
     "data": {
      "text/plain": [
       "1.0"
      ]
     },
     "execution_count": 6,
     "metadata": {},
     "output_type": "execute_result"
    }
   ],
   "source": [
    "X = xdata[ydata < 2]\n",
    "y = ydata[ydata < 2]\n",
    "y = np.where(y == 0, -1, 1)\n",
    "\n",
    "xtrain, xtest, ytrain, ytest = train_test_split(X, y)\n",
    "ppn = model_perceptron()\n",
    "ppn.fit(xtrain, ytrain)\n",
    "ppn.predict(xtest)\n",
    "ppn.score(xtest, ytest)"
   ]
  },
  {
   "cell_type": "code",
   "execution_count": 7,
   "metadata": {
    "ExecuteTime": {
     "end_time": "2020-07-21T17:09:32.396461Z",
     "start_time": "2020-07-21T17:09:32.090050Z"
    }
   },
   "outputs": [
    {
     "name": "stderr",
     "output_type": "stream",
     "text": [
      "'c' argument looks like a single numeric RGB or RGBA sequence, which should be avoided as value-mapping will have precedence in case its length matches with 'x' & 'y'.  Please use a 2-D array with a single row if you really want to specify the same RGB or RGBA value for all points.\n",
      "'c' argument looks like a single numeric RGB or RGBA sequence, which should be avoided as value-mapping will have precedence in case its length matches with 'x' & 'y'.  Please use a 2-D array with a single row if you really want to specify the same RGB or RGBA value for all points.\n"
     ]
    },
    {
     "name": "stdout",
     "output_type": "stream",
     "text": [
      "fit model_perceptron(alpha = 0.001, max_iter_epoch = 1000, total_iter_epoch = 1000)\n"
     ]
    },
    {
     "data": {
      "text/plain": [
       "<matplotlib.legend.Legend object at 0x7f1ee7ee91d0>"
      ]
     },
     "execution_count": 7,
     "metadata": {},
     "output_type": "execute_result"
    },
    {
     "data": {
      "image/png": "[encoded data removed]",
      "text/plain": [
       "<Figure size 1008x504 with 1 Axes>"
      ]
     },
     "metadata": {
      "needs_background": "light"
     },
     "output_type": "display_data"
    }
   ],
   "source": [
    "X = xdata[ydata < 2, :2]\n",
    "y = ydata[ydata < 2]\n",
    "y = np.where(y == 0, -1, 1)\n",
    "\n",
    "xtrain, xtest, ytrain, ytest = train_test_split(X, y)\n",
    "ppn = model_perceptron()\n",
    "ppn.fit(xtrain, ytrain)\n",
    "decision_plot(X, y, ppn)\n",
    "plt.legend()"
   ]
  },
  {
   "cell_type": "code",
   "execution_count": 13,
   "metadata": {
    "ExecuteTime": {
     "end_time": "2020-07-21T16:50:23.377216Z",
     "start_time": "2020-07-21T16:50:23.323336Z"
    }
   },
   "outputs": [
    {
     "name": "stdout",
     "output_type": "stream",
     "text": [
      "fit perceptron_dual(alpha = 0.001, total_iter_epoch = 1000)\n"
     ]
    },
    {
     "data": {
      "text/plain": [
       "array([-1.,  1., -1.,  1., -1.,  1.,  1.,  1.,  1.,  1.,  1.,  1., -1.,\n",
       "        1.,  1., -1., -1.,  1., -1.,  1., -1.,  1.,  1., -1.,  1.])"
      ]
     },
     "execution_count": 13,
     "metadata": {},
     "output_type": "execute_result"
    },
    {
     "data": {
      "text/plain": [
       "0.96"
      ]
     },
     "execution_count": 13,
     "metadata": {},
     "output_type": "execute_result"
    }
   ],
   "source": [
    "X = xdata[ydata < 2]\n",
    "y = ydata[ydata < 2]\n",
    "y = np.where(y == 0, -1, 1)\n",
    "xtrain, xtest, ytrain, ytest = train_test_split(X, y)\n",
    "\n",
    "ppn = perceptron_dual()\n",
    "ppn.fit(xtrain, ytrain)\n",
    "ppn.predict(xtest)\n",
    "ppn.score(xtest, ytest)"
   ]
  },
  {
   "cell_type": "code",
   "execution_count": 12,
   "metadata": {
    "ExecuteTime": {
     "end_time": "2020-07-21T16:16:23.693097Z",
     "start_time": "2020-07-21T16:16:23.627181Z"
    }
   },
   "outputs": [
    {
     "name": "stdout",
     "output_type": "stream",
     "text": [
      "fit model_perceptron(alpha = 0.001, max_iter_epoch = 1000, total_iter_epoch = 6)\n",
      "fit model_perceptron(alpha = 0.001, max_iter_epoch = 1000, total_iter_epoch = 1000)\n",
      "fit model_perceptron(alpha = 0.001, max_iter_epoch = 1000, total_iter_epoch = 63)\n"
     ]
    },
    {
     "data": {
      "text/plain": [
       "array([0, 2, 2, 0, 2, 2, 0, 2, 2, 0, 2, 2, 2, 2, 0, 2, 2, 2, 0, 0, 0, 2,\n",
       "       2, 0, 0, 0, 2, 0, 0, 2, 2, 0, 1, 2, 0, 2, 0, 0])"
      ]
     },
     "execution_count": 12,
     "metadata": {},
     "output_type": "execute_result"
    },
    {
     "data": {
      "text/plain": [
       "0.6578947368421053"
      ]
     },
     "execution_count": 12,
     "metadata": {},
     "output_type": "execute_result"
    }
   ],
   "source": [
    "xtrain, xtest, ytrain, ytest = train_test_split(xdata, ydata)\n",
    "ppn = perceptron_ovr()\n",
    "ppn.fit(xtrain, ytrain)\n",
    "ppn.predict(xtest)\n",
    "ppn.score(xtest, ytest)"
   ]
  },
  {
   "cell_type": "code",
   "execution_count": 13,
   "metadata": {
    "ExecuteTime": {
     "end_time": "2020-07-21T16:16:24.685554Z",
     "start_time": "2020-07-21T16:16:24.614889Z"
    }
   },
   "outputs": [
    {
     "name": "stdout",
     "output_type": "stream",
     "text": [
      "fit model_perceptron(alpha = 0.001, max_iter_epoch = 1000, total_iter_epoch = 8)\n",
      "fit model_perceptron(alpha = 0.001, max_iter_epoch = 1000, total_iter_epoch = 6)\n",
      "fit model_perceptron(alpha = 0.001, max_iter_epoch = 1000, total_iter_epoch = 1000)\n"
     ]
    },
    {
     "data": {
      "text/plain": [
       "array([0., 0., 2., 0., 0., 0., 0., 2., 1., 2., 2., 2., 2., 1., 1., 1., 1.,\n",
       "       1., 1., 2., 2., 0., 0., 1., 2., 2., 0., 1., 0., 1., 0., 0., 0., 1.,\n",
       "       2., 0., 0., 1.])"
      ]
     },
     "execution_count": 13,
     "metadata": {},
     "output_type": "execute_result"
    },
    {
     "data": {
      "text/plain": [
       "0.9736842105263158"
      ]
     },
     "execution_count": 13,
     "metadata": {},
     "output_type": "execute_result"
    }
   ],
   "source": [
    "xtrain, xtest, ytrain, ytest = train_test_split(xdata, ydata)\n",
    "ppn = perceptron_ovo()\n",
    "ppn.fit(xtrain, ytrain)\n",
    "ppn.predict(xtest)\n",
    "ppn.score(xtest, ytest)"
   ]
  },
  {
   "cell_type": "code",
   "execution_count": null,
   "metadata": {},
   "outputs": [],
   "source": []
  }
 ],
 "metadata": {
  "kernelspec": {
   "display_name": "Python 3",
   "language": "python",
   "name": "python3"
  },
  "language_info": {
   "codemirror_mode": {
    "name": "ipython",
    "version": 3
   },
   "file_extension": ".py",
   "mimetype": "text/x-python",
   "name": "python",
   "nbconvert_exporter": "python",
   "pygments_lexer": "ipython3",
   "version": "3.7.6"
  },
  "toc": {
   "base_numbering": 1,
   "nav_menu": {},
   "number_sections": true,
   "sideBar": true,
   "skip_h1_title": false,
   "title_cell": "Table of Contents",
   "title_sidebar": "Contents",
   "toc_cell": false,
   "toc_position": {},
   "toc_section_display": true,
   "toc_window_display": true
  }
 },
 "nbformat": 4,
 "nbformat_minor": 4
}

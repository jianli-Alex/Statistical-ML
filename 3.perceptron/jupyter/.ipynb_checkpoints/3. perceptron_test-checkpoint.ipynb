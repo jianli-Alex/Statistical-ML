{
 "cells": [
  {
   "cell_type": "code",
   "execution_count": 1,
   "metadata": {
    "ExecuteTime": {
     "end_time": "2020-07-21T16:15:26.677501Z",
     "start_time": "2020-07-21T16:15:26.636285Z"
    }
   },
   "outputs": [
    {
     "name": "stdout",
     "output_type": "stream",
     "text": [
      "Pretty printing has been turned OFF\n"
     ]
    }
   ],
   "source": [
    "%config ZMQInteractiveShell.ast_node_interactivity = \"all\"\n",
    "%pprint"
   ]
  },
  {
   "cell_type": "code",
   "execution_count": 2,
   "metadata": {
    "ExecuteTime": {
     "end_time": "2020-07-21T16:15:27.152540Z",
     "start_time": "2020-07-21T16:15:26.759492Z"
    }
   },
   "outputs": [],
   "source": [
    "import sys\n",
    "sys.path.append(\"../code\")\n",
    "\n",
    "from perceptron import model_perceptron, perceptron_dual, perceptron_ovr, perceptron_ovo\n",
    "from draw import decision_plot\n",
    "import numpy as np\n",
    "import pandas as pd\n",
    "import matplotlib.pyplot as plt"
   ]
  },
  {
   "cell_type": "code",
   "execution_count": 3,
   "metadata": {
    "ExecuteTime": {
     "end_time": "2020-07-21T16:15:27.437291Z",
     "start_time": "2020-07-21T16:15:27.153864Z"
    }
   },
   "outputs": [],
   "source": [
    "from sklearn.datasets import load_iris\n",
    "from sklearn.model_selection import train_test_split\n",
    "import warnings\n",
    "warnings.filterwarnings(\"ignore\")"
   ]
  },
  {
   "cell_type": "code",
   "execution_count": 4,
   "metadata": {
    "ExecuteTime": {
     "end_time": "2020-07-21T16:15:27.441385Z",
     "start_time": "2020-07-21T16:15:27.438642Z"
    }
   },
   "outputs": [],
   "source": [
    "plt.rcParams[\"figure.figsize\"] = [14, 7]\n",
    "plt.rcParams[\"font.size\"] = 14"
   ]
  },
  {
   "cell_type": "code",
   "execution_count": 5,
   "metadata": {
    "ExecuteTime": {
     "end_time": "2020-07-21T16:15:27.451717Z",
     "start_time": "2020-07-21T16:15:27.443604Z"
    }
   },
   "outputs": [],
   "source": [
    "iris_data = load_iris()\n",
    "xdata = iris_data[\"data\"]\n",
    "ydata = iris_data[\"target\"]"
   ]
  },
  {
   "cell_type": "code",
   "execution_count": 8,
   "metadata": {
    "ExecuteTime": {
     "end_time": "2020-07-21T16:15:48.670966Z",
     "start_time": "2020-07-21T16:15:48.604635Z"
    }
   },
   "outputs": [
    {
     "name": "stdout",
     "output_type": "stream",
     "text": [
      "fit model_perceptron(alpha = 0.001, max_iter_epoch = 1000, total_iter_epoch = 1000)\n"
     ]
    },
    {
     "data": {
      "text/plain": [
       "array([-1.,  1.,  1.,  1.,  1., -1.,  1.,  1.,  1., -1.,  1.,  1.,  1.,\n",
       "        1.,  1.,  1.,  1.,  1., -1., -1., -1.,  1., -1.,  1.,  1.])"
      ]
     },
     "execution_count": 8,
     "metadata": {},
     "output_type": "execute_result"
    },
    {
     "data": {
      "text/plain": [
       "1.0"
      ]
     },
     "execution_count": 8,
     "metadata": {},
     "output_type": "execute_result"
    }
   ],
   "source": [
    "X = xdata[ydata < 2, :2]\n",
    "y = ydata[ydata < 2]\n",
    "y = np.where(y == 0, -1, 1)\n",
    "\n",
    "xtrain, xtest, ytrain, ytest = train_test_split(X, y)\n",
    "ppn = model_perceptron()\n",
    "ppn.fit(xtrain, ytrain)\n",
    "ppn.predict(xtest)\n",
    "ppn.score(xtest, ytest)"
   ]
  },
  {
   "cell_type": "code",
   "execution_count": 11,
   "metadata": {
    "ExecuteTime": {
     "end_time": "2020-07-21T16:16:23.180457Z",
     "start_time": "2020-07-21T16:16:23.119651Z"
    }
   },
   "outputs": [
    {
     "name": "stdout",
     "output_type": "stream",
     "text": [
      "fit perceptron_dual(alpha = 0.001, total_iter_epoch = 1000)\n"
     ]
    },
    {
     "data": {
      "text/plain": [
       "array([-1.,  1.,  1.,  1.,  1., -1.,  1.,  1.,  1., -1.,  1.,  1.,  1.,\n",
       "        1.,  1.,  1.,  1., -1., -1., -1., -1.,  1., -1.,  1., -1.])"
      ]
     },
     "execution_count": 11,
     "metadata": {},
     "output_type": "execute_result"
    },
    {
     "data": {
      "text/plain": [
       "0.92"
      ]
     },
     "execution_count": 11,
     "metadata": {},
     "output_type": "execute_result"
    }
   ],
   "source": [
    "ppn = perceptron_dual()\n",
    "ppn.fit(xtrain, ytrain)\n",
    "ppn.predict(xtest)\n",
    "ppn.score(xtest, ytest)"
   ]
  },
  {
   "cell_type": "code",
   "execution_count": 12,
   "metadata": {
    "ExecuteTime": {
     "end_time": "2020-07-21T16:16:23.693097Z",
     "start_time": "2020-07-21T16:16:23.627181Z"
    }
   },
   "outputs": [
    {
     "name": "stdout",
     "output_type": "stream",
     "text": [
      "fit model_perceptron(alpha = 0.001, max_iter_epoch = 1000, total_iter_epoch = 6)\n",
      "fit model_perceptron(alpha = 0.001, max_iter_epoch = 1000, total_iter_epoch = 1000)\n",
      "fit model_perceptron(alpha = 0.001, max_iter_epoch = 1000, total_iter_epoch = 63)\n"
     ]
    },
    {
     "data": {
      "text/plain": [
       "array([0, 2, 2, 0, 2, 2, 0, 2, 2, 0, 2, 2, 2, 2, 0, 2, 2, 2, 0, 0, 0, 2,\n",
       "       2, 0, 0, 0, 2, 0, 0, 2, 2, 0, 1, 2, 0, 2, 0, 0])"
      ]
     },
     "execution_count": 12,
     "metadata": {},
     "output_type": "execute_result"
    },
    {
     "data": {
      "text/plain": [
       "0.6578947368421053"
      ]
     },
     "execution_count": 12,
     "metadata": {},
     "output_type": "execute_result"
    }
   ],
   "source": [
    "xtrain, xtest, ytrain, ytest = train_test_split(xdata, ydata)\n",
    "ppn = perceptron_ovr()\n",
    "ppn.fit(xtrain, ytrain)\n",
    "ppn.predict(xtest)\n",
    "ppn.score(xtest, ytest)"
   ]
  },
  {
   "cell_type": "code",
   "execution_count": 13,
   "metadata": {
    "ExecuteTime": {
     "end_time": "2020-07-21T16:16:24.685554Z",
     "start_time": "2020-07-21T16:16:24.614889Z"
    }
   },
   "outputs": [
    {
     "name": "stdout",
     "output_type": "stream",
     "text": [
      "fit model_perceptron(alpha = 0.001, max_iter_epoch = 1000, total_iter_epoch = 8)\n",
      "fit model_perceptron(alpha = 0.001, max_iter_epoch = 1000, total_iter_epoch = 6)\n",
      "fit model_perceptron(alpha = 0.001, max_iter_epoch = 1000, total_iter_epoch = 1000)\n"
     ]
    },
    {
     "data": {
      "text/plain": [
       "array([0., 0., 2., 0., 0., 0., 0., 2., 1., 2., 2., 2., 2., 1., 1., 1., 1.,\n",
       "       1., 1., 2., 2., 0., 0., 1., 2., 2., 0., 1., 0., 1., 0., 0., 0., 1.,\n",
       "       2., 0., 0., 1.])"
      ]
     },
     "execution_count": 13,
     "metadata": {},
     "output_type": "execute_result"
    },
    {
     "data": {
      "text/plain": [
       "0.9736842105263158"
      ]
     },
     "execution_count": 13,
     "metadata": {},
     "output_type": "execute_result"
    }
   ],
   "source": [
    "xtrain, xtest, ytrain, ytest = train_test_split(xdata, ydata)\n",
    "ppn = perceptron_ovo()\n",
    "ppn.fit(xtrain, ytrain)\n",
    "ppn.predict(xtest)\n",
    "ppn.score(xtest, ytest)"
   ]
  },
  {
   "cell_type": "code",
   "execution_count": null,
   "metadata": {},
   "outputs": [],
   "source": []
  }
 ],
 "metadata": {
  "kernelspec": {
   "display_name": "Python 3",
   "language": "python",
   "name": "python3"
  },
  "language_info": {
   "codemirror_mode": {
    "name": "ipython",
    "version": 3
   },
   "file_extension": ".py",
   "mimetype": "text/x-python",
   "name": "python",
   "nbconvert_exporter": "python",
   "pygments_lexer": "ipython3",
   "version": "3.7.6"
  },
  "toc": {
   "base_numbering": 1,
   "nav_menu": {},
   "number_sections": true,
   "sideBar": true,
   "skip_h1_title": false,
   "title_cell": "Table of Contents",
   "title_sidebar": "Contents",
   "toc_cell": false,
   "toc_position": {},
   "toc_section_display": true,
   "toc_window_display": false
  }
 },
 "nbformat": 4,
 "nbformat_minor": 4
}

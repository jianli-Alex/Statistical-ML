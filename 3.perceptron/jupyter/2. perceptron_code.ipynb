{
 "cells": [
  {
   "cell_type": "code",
   "execution_count": 4,
   "metadata": {
    "ExecuteTime": {
     "end_time": "2020-07-21T17:06:17.775172Z",
     "start_time": "2020-07-21T17:06:17.759752Z"
    }
   },
   "outputs": [
    {
     "name": "stdout",
     "output_type": "stream",
     "text": [
      "Pretty printing has been turned OFF\n"
     ]
    }
   ],
   "source": [
    "%config ZMQInteractiveShell.ast_node_interactivity = \"all\"\n",
    "%pprint"
   ]
  },
  {
   "cell_type": "markdown",
   "metadata": {},
   "source": [
    "## 载入库"
   ]
  },
  {
   "cell_type": "code",
   "execution_count": 5,
   "metadata": {
    "ExecuteTime": {
     "end_time": "2020-07-21T17:06:18.292791Z",
     "start_time": "2020-07-21T17:06:18.281926Z"
    }
   },
   "outputs": [],
   "source": [
    "import numpy as np\n",
    "import pandas as pd\n",
    "import matplotlib.pyplot as plt\n",
    "from sklearn.datasets import load_iris\n",
    "from sklearn.model_selection import train_test_split\n",
    "from sklearn.linear_model import Perceptron\n",
    "import warnings\n",
    "warnings.filterwarnings(\"ignore\")"
   ]
  },
  {
   "cell_type": "code",
   "execution_count": 6,
   "metadata": {
    "ExecuteTime": {
     "end_time": "2020-07-21T17:06:18.552803Z",
     "start_time": "2020-07-21T17:06:18.546756Z"
    }
   },
   "outputs": [],
   "source": [
    "# 修改图形尺寸\n",
    "plt.rcParams[\"figure.figsize\"] = [14, 7]\n",
    "plt.rcParams[\"font.size\"] = 14"
   ]
  },
  {
   "cell_type": "markdown",
   "metadata": {},
   "source": [
    "## 载入数据"
   ]
  },
  {
   "cell_type": "code",
   "execution_count": 7,
   "metadata": {
    "ExecuteTime": {
     "end_time": "2020-07-21T17:06:19.544827Z",
     "start_time": "2020-07-21T17:06:19.536315Z"
    }
   },
   "outputs": [],
   "source": [
    "# 载入鸢尾花数据\n",
    "iris_data = load_iris()\n",
    "xdata = iris_data[\"data\"]\n",
    "ydata = iris_data[\"target\"]\n",
    "feature_names = list(map(lambda x: \"_\".join(x[:-4].split()), iris_data[\"feature_names\"]))\n",
    "\n",
    "# 数据集的合并\n",
    "data = pd.DataFrame(xdata)\n",
    "data.columns = feature_names\n",
    "data[\"label\"] = ydata"
   ]
  },
  {
   "cell_type": "markdown",
   "metadata": {},
   "source": [
    "## 二分类"
   ]
  },
  {
   "cell_type": "code",
   "execution_count": 13,
   "metadata": {
    "ExecuteTime": {
     "end_time": "2020-07-21T15:50:44.373340Z",
     "start_time": "2020-07-21T15:50:44.358291Z"
    }
   },
   "outputs": [],
   "source": [
    "# 筛选数据集\n",
    "X = xdata[ydata < 2, :2]\n",
    "y = ydata[ydata < 2] \n",
    "# 修改标签\n",
    "y[y == 0] = -1\n",
    "\n",
    "# 划分数据集\n",
    "x_train, x_test, y_train, y_test = train_test_split(X, y)"
   ]
  },
  {
   "cell_type": "markdown",
   "metadata": {},
   "source": [
    "### 感知机"
   ]
  },
  {
   "cell_type": "code",
   "execution_count": 14,
   "metadata": {
    "ExecuteTime": {
     "end_time": "2020-07-21T15:50:45.108747Z",
     "start_time": "2020-07-21T15:50:45.077763Z"
    }
   },
   "outputs": [],
   "source": [
    "class model_perceptron(object):\n",
    "    \"\"\"\n",
    "    功能：实现感知机算法\n",
    "    参数 w：权重，默认都为None\n",
    "    参数 b：偏置项，默认为0\n",
    "    参数 alpha：学习率，默认为0.001\n",
    "    参数 iter_epoch：迭代轮数，默认最大为1000\n",
    "    \"\"\"\n",
    "    def __init__(self, w = None, b = 0, alpha = 0.001, max_iter_epoch = 1000):\n",
    "        self.w = w\n",
    "        self.b = b\n",
    "        self.alpha = alpha\n",
    "        self.max_iter_epoch = max_iter_epoch\n",
    "        \n",
    "    def linear_model(self, X):\n",
    "        \"\"\"功能：实现线性模型\"\"\"\n",
    "        return np.dot(X, self.w) + self.b\n",
    "         \n",
    "    def fit(self, X, y):\n",
    "        \"\"\"\n",
    "        功能：拟合感知机模型\n",
    "        参数 X：训练集的输入数据\n",
    "        参数 y：训练集的输出数据\n",
    "        \"\"\"\n",
    "        # 按训练集的输入维度初始化w\n",
    "        self.w = np.zeros(X.shape[1])\n",
    "        # 误分类的样本就为True\n",
    "        state = np.sign(self.linear_model(X)) != y\n",
    "        # 迭代轮数\n",
    "        total_iter_epoch = 1\n",
    "        \n",
    "        while state.any() and (total_iter_epoch <= self.max_iter_epoch):\n",
    "            # 使用误分类点进行权重更新\n",
    "            self.w += self.alpha * y[state][0] * X[state][0]\n",
    "            self.b += self.alpha * y[state][0]\n",
    "            \n",
    "            # 状态更新\n",
    "            total_iter_epoch += 1\n",
    "            state = np.sign(self.linear_model(X)) != y\n",
    "            \n",
    "        print(f\"fit model_perceptron(alpha = {self.alpha}, max_iter_epoch = {self.max_iter_epoch}, total_iter_epoch = {min(self.max_iter_epoch, total_iter_epoch)})\")\n",
    "        \n",
    "    def predict(self, X):\n",
    "        \"\"\"\n",
    "        功能：模型预测\n",
    "        参数 X：测试集的输入数据\n",
    "        \"\"\"\n",
    "        return np.sign(self.linear_model(X)) \n",
    "    \n",
    "    def score(self, X, y):\n",
    "        \"\"\"\n",
    "        功能：模型评价（准确率）\n",
    "        参数 X：测试集的输入数据\n",
    "        参数 y：测试集的输出数据\n",
    "        \"\"\"\n",
    "        y_predict = self.predict(X)\n",
    "        y_score = (y_predict == y).sum() / len(y)\n",
    "        \n",
    "        return y_score"
   ]
  },
  {
   "cell_type": "code",
   "execution_count": 15,
   "metadata": {
    "ExecuteTime": {
     "end_time": "2020-07-21T15:50:46.156487Z",
     "start_time": "2020-07-21T15:50:46.102816Z"
    }
   },
   "outputs": [
    {
     "name": "stdout",
     "output_type": "stream",
     "text": [
      "fit model_perceptron(alpha = 0.001, max_iter_epoch = 1000, total_iter_epoch = 1000)\n"
     ]
    },
    {
     "data": {
      "text/plain": [
       "array([-1., -1.,  1.,  1.,  1.,  1.,  1.,  1., -1., -1., -1., -1., -1.,\n",
       "        1., -1.,  1., -1.,  1., -1., -1., -1.,  1.,  1., -1.,  1.])"
      ]
     },
     "execution_count": 15,
     "metadata": {},
     "output_type": "execute_result"
    },
    {
     "data": {
      "text/plain": [
       "0.96"
      ]
     },
     "execution_count": 15,
     "metadata": {},
     "output_type": "execute_result"
    }
   ],
   "source": [
    "ppn = model_perceptron()\n",
    "ppn.fit(x_train, y_train)\n",
    "ppn.predict(x_test)\n",
    "ppn.score(x_test, y_test)"
   ]
  },
  {
   "cell_type": "markdown",
   "metadata": {},
   "source": [
    "### 作图"
   ]
  },
  {
   "cell_type": "code",
   "execution_count": 4,
   "metadata": {
    "ExecuteTime": {
     "end_time": "2020-07-21T15:44:07.040887Z",
     "start_time": "2020-07-21T15:44:06.916332Z"
    }
   },
   "outputs": [],
   "source": [
    "from matplotlib.colors import ListedColormap\n",
    "\n",
    "def decision_plot(X, Y, clf, test_idx = None, resolution = 0.02):\n",
    "    \"\"\"\n",
    "    功能：画分类器的决策图\n",
    "    参数 X：输入实例\n",
    "    参数 Y：实例标记\n",
    "    参数 clf：分类器\n",
    "    参数 test_idx：测试集的index\n",
    "    参数 resolution：np.arange的间隔大小\n",
    "    \"\"\"\n",
    "    # 标记和颜色设置\n",
    "    markers = ['o', 's', 'x', '^', '>']\n",
    "    colors = ('red', 'blue', 'lightgreen', 'gray', 'cyan')\n",
    "    cmap = ListedColormap(colors[:len(np.unique(Y))])\n",
    "    \n",
    "    # 图形范围\n",
    "    xmin, xmax = X[:, 0].min() - 1, X[:, 0].max() + 1\n",
    "    ymin, ymax = X[:, 1].min() - 1, X[:, 1].max() + 1\n",
    "    x = np.arange(xmin, xmax, resolution)\n",
    "    y = np.arange(ymin, ymax, resolution)\n",
    "    \n",
    "    # 网格\n",
    "    nx, ny = np.meshgrid(x, y)\n",
    "    \n",
    "    # 数据合并\n",
    "    xdata = np.c_[nx.reshape(-1), ny.reshape(-1)]\n",
    "    \n",
    "    # 分类器预测\n",
    "    z = clf.predict(xdata)\n",
    "    z = z.reshape(nx.shape)\n",
    "    \n",
    "    # 作区域图\n",
    "    plt.contourf(nx, ny, z, alpha = 0.4, cmap = cmap)\n",
    "    plt.xlim(nx.min(), nx.max())\n",
    "    plt.ylim(ny.min(), ny.max())\n",
    "    \n",
    "    # 画点\n",
    "    for index, cl in enumerate(np.unique(Y)):\n",
    "        plt.scatter(x=X[Y == cl, 0], y=X[Y == cl, 1],\n",
    "                    alpha=0.8, c = cmap(index), \n",
    "                    marker=markers[index], label=cl)\n",
    "    \n",
    "    # 突出测试集的点\n",
    "    if test_idx:\n",
    "        X_test, y_test = X[test_idx, :], y[test_idx]\n",
    "\n",
    "        plt.scatter(X_test[:, 0],\n",
    "                    X_test[:, 1],\n",
    "                    alpha=0.15,\n",
    "                    linewidths=2,\n",
    "                    marker='^',\n",
    "                    edgecolors='black',\n",
    "                    facecolors='none',\n",
    "                    s=55, label='test set')"
   ]
  },
  {
   "cell_type": "code",
   "execution_count": 198,
   "metadata": {
    "ExecuteTime": {
     "end_time": "2020-07-21T15:17:59.607434Z",
     "start_time": "2020-07-21T15:17:59.262080Z"
    }
   },
   "outputs": [
    {
     "name": "stderr",
     "output_type": "stream",
     "text": [
      "'c' argument looks like a single numeric RGB or RGBA sequence, which should be avoided as value-mapping will have precedence in case its length matches with 'x' & 'y'.  Please use a 2-D array with a single row if you really want to specify the same RGB or RGBA value for all points.\n",
      "'c' argument looks like a single numeric RGB or RGBA sequence, which should be avoided as value-mapping will have precedence in case its length matches with 'x' & 'y'.  Please use a 2-D array with a single row if you really want to specify the same RGB or RGBA value for all points.\n"
     ]
    },
    {
     "data": {
      "text/plain": [
       "<matplotlib.legend.Legend object at 0x7f90e30c3090>"
      ]
     },
     "execution_count": 198,
     "metadata": {},
     "output_type": "execute_result"
    },
    {
     "data": {
      "image/png": "[encoded data removed]",
      "text/plain": [
       "<Figure size 1008x504 with 1 Axes>"
      ]
     },
     "metadata": {
      "needs_background": "light"
     },
     "output_type": "display_data"
    }
   ],
   "source": [
    "decision_plot(X, y, ppn)\n",
    "plt.legend()"
   ]
  },
  {
   "cell_type": "code",
   "execution_count": 114,
   "metadata": {
    "ExecuteTime": {
     "end_time": "2020-07-21T13:47:31.515964Z",
     "start_time": "2020-07-21T13:47:31.300405Z"
    }
   },
   "outputs": [
    {
     "data": {
      "text/plain": [
       "<matplotlib.collections.PathCollection object at 0x7f90e3ba0e90>"
      ]
     },
     "execution_count": 114,
     "metadata": {},
     "output_type": "execute_result"
    },
    {
     "data": {
      "text/plain": [
       "<matplotlib.collections.PathCollection object at 0x7f90e5ebee90>"
      ]
     },
     "execution_count": 114,
     "metadata": {},
     "output_type": "execute_result"
    },
    {
     "data": {
      "text/plain": [
       "<matplotlib.legend.Legend object at 0x7f90e62a5910>"
      ]
     },
     "execution_count": 114,
     "metadata": {},
     "output_type": "execute_result"
    },
    {
     "data": {
      "text/plain": [
       "Text(0.5, 0, 'sepal_length')"
      ]
     },
     "execution_count": 114,
     "metadata": {},
     "output_type": "execute_result"
    },
    {
     "data": {
      "text/plain": [
       "Text(0, 0.5, 'sepal_width')"
      ]
     },
     "execution_count": 114,
     "metadata": {},
     "output_type": "execute_result"
    },
    {
     "data": {
      "text/plain": [
       "[<matplotlib.lines.Line2D object at 0x7f90e5eb1710>]"
      ]
     },
     "execution_count": 114,
     "metadata": {},
     "output_type": "execute_result"
    },
    {
     "data": {
      "image/png": "[encoded data removed]",
      "text/plain": [
       "<Figure size 1008x504 with 1 Axes>"
      ]
     },
     "metadata": {
      "needs_background": "light"
     },
     "output_type": "display_data"
    }
   ],
   "source": [
    "plt.scatter(x_test[y_test == -1, 0], x_test[y_test == -1, 1], color = \"orange\", label = \"-1\")\n",
    "plt.scatter(x_test[y_test == 1, 0], x_test[y_test == 1, 1], color = \"blue\", label = \"1\")\n",
    "plt.legend()\n",
    "plt.xlabel(feature_names[0])\n",
    "plt.ylabel(feature_names[1])\n",
    "\n",
    "# 决策边界\n",
    "x = np.linspace(min(x_test[:, 0]), max(x_test[:, 0]), 1000)\n",
    "y = -(ppn.w[0] * x + ppn.b)/ppn.w[1]\n",
    "plt.plot(x, y)"
   ]
  },
  {
   "cell_type": "markdown",
   "metadata": {},
   "source": [
    "### 多维的情况"
   ]
  },
  {
   "cell_type": "markdown",
   "metadata": {},
   "source": [
    "不局限于二维的情况"
   ]
  },
  {
   "cell_type": "code",
   "execution_count": 116,
   "metadata": {
    "ExecuteTime": {
     "end_time": "2020-07-21T13:50:36.249790Z",
     "start_time": "2020-07-21T13:50:36.236652Z"
    }
   },
   "outputs": [],
   "source": [
    "# 划分数据集\n",
    "X = xdata[ydata < 2]\n",
    "y = ydata[ydata < 2]\n",
    "y = np.where(y == 0, -1, 1)\n",
    "xtrain, xtest, ytrain, ytest = train_test_split(X, y)"
   ]
  },
  {
   "cell_type": "code",
   "execution_count": 118,
   "metadata": {
    "ExecuteTime": {
     "end_time": "2020-07-21T13:51:31.529558Z",
     "start_time": "2020-07-21T13:51:31.504941Z"
    }
   },
   "outputs": [
    {
     "name": "stdout",
     "output_type": "stream",
     "text": [
      "fit model_perceptron(alpha = 0.001, max_iter_epoch = 1000, total_iter_epoch = 6)\n"
     ]
    },
    {
     "data": {
      "text/plain": [
       "array([-1.,  1.,  1.,  1.,  1.,  1., -1., -1.,  1.,  1.,  1.,  1., -1.,\n",
       "       -1., -1.,  1.,  1., -1., -1., -1.,  1.,  1., -1.,  1., -1.])"
      ]
     },
     "execution_count": 118,
     "metadata": {},
     "output_type": "execute_result"
    },
    {
     "data": {
      "text/plain": [
       "1.0"
      ]
     },
     "execution_count": 118,
     "metadata": {},
     "output_type": "execute_result"
    }
   ],
   "source": [
    "ppn = model_perceptron()\n",
    "ppn.fit(xtrain, ytrain)\n",
    "ppn.predict(xtest)\n",
    "ppn.score(xtest, ytest)"
   ]
  },
  {
   "cell_type": "markdown",
   "metadata": {},
   "source": [
    "## 多分类"
   ]
  },
  {
   "cell_type": "markdown",
   "metadata": {},
   "source": [
    "### one vs. rest"
   ]
  },
  {
   "cell_type": "markdown",
   "metadata": {},
   "source": [
    "假设有k个类别，生成k个分类器，最后选取概率最大的预测结果"
   ]
  },
  {
   "cell_type": "code",
   "execution_count": 36,
   "metadata": {
    "ExecuteTime": {
     "end_time": "2020-07-21T15:53:16.541037Z",
     "start_time": "2020-07-21T15:53:16.514908Z"
    }
   },
   "outputs": [],
   "source": [
    "class perceptron_ovr(object):\n",
    "    \"\"\"\n",
    "    功能：实现感知机的多分类情形（采用one vs. rest策略）\n",
    "    参数 w：权重，默认都为None\n",
    "    参数 b：偏置项，默认为0\n",
    "    参数 alpha：学习率，默认0.001\n",
    "    参数 max_iter_epoch：最大迭代次数，默认为1000\n",
    "    \"\"\"\n",
    "    def __init__(self, alpha = 0.001, max_iter_epoch = 1000):\n",
    "        self.w = None\n",
    "        self.b = None\n",
    "        self.alpha = alpha\n",
    "        self.max_iter_epoch = max_iter_epoch\n",
    "        \n",
    "    def linear_model(self, X):\n",
    "        \"\"\"功能：实现线性模型\"\"\"\n",
    "        return np.dot(self.w, X.T) + self.b\n",
    "        \n",
    "    def fit(self, X, y):\n",
    "        \"\"\"\n",
    "        功能：拟合感知机模型\n",
    "        参数 X：训练集的输入数据\n",
    "        参数 y：训练集的输出数据\n",
    "        \"\"\"\n",
    "        # 生成各分类器对应的标记\n",
    "        self.y_class = np.unique(y)\n",
    "        y_ovr = np.vstack([np.where(y == i, 1, -1) for i in self.y_class])\n",
    "        \n",
    "        # 初始化w, b\n",
    "        self.w = np.zeros([self.y_class.shape[0], X.shape[1]])\n",
    "        self.b = np.zeros([self.y_class.shape[0], 1])\n",
    "        \n",
    "        # 拟合各分类器，并更新相应维度的w和b\n",
    "        for index in range(self.y_class.shape[0]):\n",
    "            ppn = model_perceptron(alpha = self.alpha, max_iter_epoch = self.max_iter_epoch)\n",
    "            ppn.fit(X, y_ovr[index])\n",
    "            self.w[index] = ppn.w\n",
    "            self.b[index] = ppn.b\n",
    "            \n",
    "    def predict(self, X):\n",
    "        \"\"\"\n",
    "        功能：模型预测\n",
    "        参数 X：测试集的输入数据\n",
    "        \"\"\"\n",
    "        # 值越大，说明第i维的分类器将该点分得越开，即属于该分类器的概率值越大\n",
    "        y_predict = self.linear_model(X).argmax(axis = 0)\n",
    "        \n",
    "        # 还原原数据集的标签\n",
    "        for index in range(self.y_class.shape[0]):\n",
    "            y_predict = np.where(y_predict == index, self.y_class[index], y_predict)\n",
    "            \n",
    "        return y_predict\n",
    "    \n",
    "    def score(self, X, y):\n",
    "        \"\"\"\n",
    "        功能：模型评价（准确率）\n",
    "        参数 X：测试集的输入数据\n",
    "        参数 y：测试集的输出数据\n",
    "        \"\"\"\n",
    "        y_score = (self.predict(X) == y).sum()/len(y)\n",
    "        return y_score"
   ]
  },
  {
   "cell_type": "code",
   "execution_count": 37,
   "metadata": {
    "ExecuteTime": {
     "end_time": "2020-07-21T15:53:17.208909Z",
     "start_time": "2020-07-21T15:53:17.123629Z"
    }
   },
   "outputs": [
    {
     "name": "stdout",
     "output_type": "stream",
     "text": [
      "fit model_perceptron(alpha = 0.001, max_iter_epoch = 1000, total_iter_epoch = 10)\n",
      "fit model_perceptron(alpha = 0.001, max_iter_epoch = 1000, total_iter_epoch = 1000)\n",
      "fit model_perceptron(alpha = 0.001, max_iter_epoch = 1000, total_iter_epoch = 1000)\n"
     ]
    },
    {
     "data": {
      "text/plain": [
       "array([0, 2, 0, 0, 0, 0, 2, 0, 0, 1, 0, 0, 0, 2, 2, 0, 1, 0, 0, 1, 1, 0,\n",
       "       2, 0, 0, 0, 1, 1, 0, 1, 1, 2, 1, 1, 2, 2, 0, 0])"
      ]
     },
     "execution_count": 37,
     "metadata": {},
     "output_type": "execute_result"
    },
    {
     "data": {
      "text/plain": [
       "0.868421052631579"
      ]
     },
     "execution_count": 37,
     "metadata": {},
     "output_type": "execute_result"
    }
   ],
   "source": [
    "xtrain, xtest, ytrain, ytest = train_test_split(xdata, ydata)\n",
    "\n",
    "ppn = perceptron_ovr()\n",
    "ppn.fit(xtrain, ytrain)\n",
    "ppn.predict(xtest)\n",
    "ppn.score(xtest, ytest)"
   ]
  },
  {
   "cell_type": "markdown",
   "metadata": {},
   "source": [
    "### one vs. one"
   ]
  },
  {
   "cell_type": "markdown",
   "metadata": {
    "ExecuteTime": {
     "end_time": "2020-07-21T15:00:42.961883Z",
     "start_time": "2020-07-21T15:00:42.955894Z"
    }
   },
   "source": [
    "假设有k个类别，生成k(k-1)/2个二分类器，最后通过多数投票来选取预测结果"
   ]
  },
  {
   "cell_type": "code",
   "execution_count": 21,
   "metadata": {
    "ExecuteTime": {
     "end_time": "2020-07-21T15:51:23.285714Z",
     "start_time": "2020-07-21T15:51:23.252518Z"
    }
   },
   "outputs": [],
   "source": [
    "from itertools import combinations\n",
    "\n",
    "class perceptron_ovo(object):\n",
    "    \"\"\"\n",
    "    功能：实现感知机的多分类情形（采用one vs. one策略）\n",
    "    参数 w：权重，默认都为None\n",
    "    参数 b：偏置项，默认为0\n",
    "    参数 alpha：学习率，默认0.001\n",
    "    参数 max_iter_epoch：最大迭代次数，默认为1000\n",
    "    \"\"\"\n",
    "    def __init__(self, alpha = 0.001, max_iter_epoch = 1000):\n",
    "        self.w = None\n",
    "        self.b = None\n",
    "        self.alpha = alpha\n",
    "        self.max_iter_epoch = max_iter_epoch\n",
    "        \n",
    "    def linear_model(self, X):\n",
    "        \"\"\"功能：实现线性模型\"\"\"\n",
    "        return np.dot(self.w, X.T) + self.b\n",
    "        \n",
    "    def fit(self, X, y):\n",
    "        \"\"\"\n",
    "        功能：拟合感知机模型\n",
    "        参数 X：训练集的输入数据\n",
    "        参数 y：训练集的输出数据\n",
    "        \"\"\"\n",
    "        # 生成各分类器对应的标记（使用排列组合）\n",
    "        self.y_class = np.unique(y)\n",
    "        self.y_combine = [i for i in combinations(self.y_class, 2)]\n",
    "        \n",
    "        # 初始化w和b\n",
    "        clf_num = len(self.y_combine)\n",
    "        self.w = np.zeros([clf_num, X.shape[1]])\n",
    "        self.b = np.zeros([clf_num, 1])\n",
    "        \n",
    "        for index, label in enumerate(self.y_combine):\n",
    "            # 根据各分类器的标签选取数据集\n",
    "            cond = pd.Series(y).isin(pd.Series(label))\n",
    "            xdata, ydata = X[cond], y[cond]\n",
    "            ydata = np.where(ydata == label[0], 1, -1)\n",
    "            \n",
    "            # 拟合各分类器，并更新相应维度的w和b\n",
    "            ppn = model_perceptron(alpha = self.alpha, max_iter_epoch = self.max_iter_epoch)\n",
    "            ppn.fit(xdata, ydata)\n",
    "            self.w[index] = ppn.w\n",
    "            self.b[index] = ppn.b\n",
    "    \n",
    "    def voting(self, y):\n",
    "        \"\"\"\n",
    "        功能：投票\n",
    "        参数 y：各分类器的预测结果，接受的是元组如(1, 1, 2)\n",
    "        \"\"\"\n",
    "        # 统计分类器预测结果的出现次数\n",
    "        y_count = np.unique(np.array(y), return_counts = True)\n",
    "        # 返回出现次数最大的结果位置索引\n",
    "        max_index = y_count[1].argmax()\n",
    "        # 返回某个实例投票后的结果\n",
    "        y_predict = y_count[0][max_index]\n",
    "        \n",
    "        return y_predict\n",
    "        \n",
    "                      \n",
    "    def predict(self, X):\n",
    "        \"\"\"\n",
    "        功能：模型预测\n",
    "        参数 X：测试集的输入数据\n",
    "        \"\"\"\n",
    "        # 预测结果\n",
    "        y_predict = np.sign(self.linear_model(X))\n",
    "        # 还原标签（根据排列组合的标签）\n",
    "        for index, label in enumerate(self.y_combine):\n",
    "            y_predict[index] = np.where(y_predict[index] == 1, label[0], label[1])\n",
    "        \n",
    "        # 列为某一个实例的预测结果，打包用于之后的投票\n",
    "        predict_zip = zip(*(i.reshape(-1) for i in np.vsplit(y_predict, self.y_class.shape[0])))\n",
    "        # 投票得到预测结果\n",
    "        y_predict = list(map(lambda x: self.voting(x), list(predict_zip)))\n",
    "        \n",
    "        return np.array(y_predict)\n",
    "    \n",
    "    def score(self, X, y):\n",
    "        \"\"\"\n",
    "        功能：模型评价（准确率）\n",
    "        参数 X：测试集的输入数据\n",
    "        参数 y：测试集的输出数据\n",
    "        \"\"\"\n",
    "        y_predict = self.predict(X)\n",
    "        y_score = (y_predict == y).sum() / len(y)\n",
    "        \n",
    "        return y_score"
   ]
  },
  {
   "cell_type": "code",
   "execution_count": 23,
   "metadata": {
    "ExecuteTime": {
     "end_time": "2020-07-21T15:51:26.480683Z",
     "start_time": "2020-07-21T15:51:26.429869Z"
    }
   },
   "outputs": [
    {
     "name": "stdout",
     "output_type": "stream",
     "text": [
      "fit model_perceptron(alpha = 0.001, max_iter_epoch = 1000, total_iter_epoch = 6)\n",
      "fit model_perceptron(alpha = 0.001, max_iter_epoch = 1000, total_iter_epoch = 4)\n",
      "fit model_perceptron(alpha = 0.001, max_iter_epoch = 1000, total_iter_epoch = 1000)\n"
     ]
    },
    {
     "data": {
      "text/plain": [
       "array([1., 1., 0., 0., 2., 1., 2., 0., 0., 1., 0., 2., 2., 1., 2., 0., 1.,\n",
       "       2., 1., 0., 0., 1., 2., 2., 0., 2., 2., 1., 0., 0., 1., 0., 2., 0.,\n",
       "       2., 2., 0., 2.])"
      ]
     },
     "execution_count": 23,
     "metadata": {},
     "output_type": "execute_result"
    },
    {
     "data": {
      "text/plain": [
       "0.9736842105263158"
      ]
     },
     "execution_count": 23,
     "metadata": {},
     "output_type": "execute_result"
    }
   ],
   "source": [
    "xtrain, xtest, ytrain, ytest = train_test_split(xdata, ydata)\n",
    "\n",
    "ppn = perceptron_ovo()\n",
    "ppn.fit(xtrain, ytrain)\n",
    "ppn.predict(xtest)\n",
    "ppn.score(xtest, ytest)"
   ]
  },
  {
   "cell_type": "markdown",
   "metadata": {},
   "source": [
    "准确率一般比one vs. rest要高，但是生成的分类器多"
   ]
  },
  {
   "cell_type": "markdown",
   "metadata": {},
   "source": [
    "## 对偶算法"
   ]
  },
  {
   "cell_type": "code",
   "execution_count": 238,
   "metadata": {
    "ExecuteTime": {
     "end_time": "2020-07-21T15:31:41.944059Z",
     "start_time": "2020-07-21T15:31:41.917638Z"
    }
   },
   "outputs": [],
   "source": [
    "class perceptron_dual(object):\n",
    "    \"\"\"\n",
    "    功能：实现感知机的对偶形式\n",
    "    参数 beta：每个实例点更新的次数组成的向量\n",
    "    参数 w：权重，默认都为None\n",
    "    参数 b：偏置项，默认为0\n",
    "    参数 alpha：学习率，默认0.001\n",
    "    参数 max_iter_epoch：最大迭代次数，默认为1000\n",
    "    \"\"\"\n",
    "    def __init__(self, alpha = 0.001, max_iter_epoch = 1000):\n",
    "        self.beta = None\n",
    "        self.w = None\n",
    "        self.b = 0\n",
    "        self.alpha = alpha\n",
    "        self.max_iter_epoch = max_iter_epoch\n",
    "        \n",
    "    def fit(self, X, y):\n",
    "        # 实例点的数量\n",
    "        xnum = X.shape[0]\n",
    "        # 初始化\n",
    "        self.beta = np.zeros(xnum)\n",
    "        \n",
    "        # gram矩阵\n",
    "        gram = np.dot(X, X.T)\n",
    "        \n",
    "        # 迭代条件\n",
    "        state = y*((self.beta * y * gram).sum(axis = 1) + self.b) <= 0\n",
    "        iter_epoch = 1\n",
    "        \n",
    "        while state.any() and (iter_epoch <= self.max_iter_epoch):\n",
    "            nx = X[state][0]\n",
    "            ny = y[state][0]\n",
    "            index = (X == nx).argmax()\n",
    "            self.beta[index] += self.alpha\n",
    "            self.b += ny\n",
    "            \n",
    "            # 更新条件\n",
    "            iter_epoch += 1\n",
    "            state = y*((self.beta * y * gram).sum(axis = 1) + self.b) <= 0\n",
    "        \n",
    "        # 通过beta计算出w\n",
    "        self.w = ((self.beta * y).reshape(-1, 1) * X).sum(axis = 0) \n",
    "        print(f\"fit perceptron_dual(alpha = {self.alpha}, total_iter_epoch = {min(self.max_iter_epoch, iter_epoch)})\")\n",
    "            \n",
    "        \n",
    "    def predict(self, X):\n",
    "        \"\"\"\n",
    "        功能：模型预测\n",
    "        参数 X：测试集的输入数据\n",
    "        \"\"\"\n",
    "        y_predict = np.sign(X @ self.w  + self.b)\n",
    "        return y_predict\n",
    "    \n",
    "    def score(self, X, y):\n",
    "        \"\"\"\n",
    "        功能：模型评价（准确率）\n",
    "        参数 X：测试集的输入数据\n",
    "        参数 y：测试集的输出数据\n",
    "        \"\"\"\n",
    "        y_score = (self.predict(X) == y).sum() / len(y)\n",
    "        \n",
    "        return y_score"
   ]
  },
  {
   "cell_type": "code",
   "execution_count": 283,
   "metadata": {
    "ExecuteTime": {
     "end_time": "2020-07-21T15:36:36.963536Z",
     "start_time": "2020-07-21T15:36:36.928046Z"
    }
   },
   "outputs": [
    {
     "name": "stdout",
     "output_type": "stream",
     "text": [
      "fit perceptron_dual(alpha = 0.001, total_iter_epoch = 407)\n"
     ]
    },
    {
     "data": {
      "text/plain": [
       "array([-1.,  1.,  1., -1., -1., -1.,  1., -1.,  1.,  1.,  1.,  1.,  1.,\n",
       "        1., -1., -1., -1.,  1., -1.,  1.,  1.,  1.,  1.,  1., -1.])"
      ]
     },
     "execution_count": 283,
     "metadata": {},
     "output_type": "execute_result"
    },
    {
     "data": {
      "text/plain": [
       "1.0"
      ]
     },
     "execution_count": 283,
     "metadata": {},
     "output_type": "execute_result"
    }
   ],
   "source": [
    "X = xdata[ydata < 2]\n",
    "y = ydata[ydata < 2]\n",
    "y = np.where(y == 0, -1, 1)\n",
    "xtrain, xtest, ytrain, ytest = train_test_split(X, y)\n",
    "\n",
    "ppn = perceptron_dual()\n",
    "ppn.fit(xtrain, ytrain)\n",
    "ppn.predict(xtest)\n",
    "ppn.score(xtest, ytest)"
   ]
  },
  {
   "cell_type": "markdown",
   "metadata": {},
   "source": [
    "## sklearn实现"
   ]
  },
  {
   "cell_type": "code",
   "execution_count": 8,
   "metadata": {
    "ExecuteTime": {
     "end_time": "2020-07-21T17:06:24.055886Z",
     "start_time": "2020-07-21T17:06:23.999010Z"
    }
   },
   "outputs": [
    {
     "data": {
      "text/plain": [
       "Perceptron(alpha=0.0001, class_weight=None, early_stopping=False, eta0=1.0,\n",
       "           fit_intercept=True, max_iter=1000, n_iter_no_change=5, n_jobs=None,\n",
       "           penalty=None, random_state=0, shuffle=True, tol=0.001,\n",
       "           validation_fraction=0.1, verbose=0, warm_start=False)"
      ]
     },
     "execution_count": 8,
     "metadata": {},
     "output_type": "execute_result"
    },
    {
     "data": {
      "text/plain": [
       "array([0, 0, 0, 2, 0, 2, 2, 2, 0, 2, 2, 2, 2, 0, 0, 2, 0, 0, 1, 0, 2, 0,\n",
       "       0, 2, 2, 0, 2, 2, 2, 1, 0, 0, 2, 0, 0, 0, 2, 0])"
      ]
     },
     "execution_count": 8,
     "metadata": {},
     "output_type": "execute_result"
    },
    {
     "data": {
      "text/plain": [
       "0.7631578947368421"
      ]
     },
     "execution_count": 8,
     "metadata": {},
     "output_type": "execute_result"
    }
   ],
   "source": [
    "from sklearn.linear_model import Perceptron\n",
    "\n",
    "xtrain, xtest, ytrain, ytest = train_test_split(xdata, ydata)\n",
    "ppn = Perceptron(max_iter = 1000)\n",
    "ppn.fit(xtrain, ytrain)\n",
    "ppn.predict(xtest)\n",
    "ppn.score(xtest, ytest)"
   ]
  },
  {
   "cell_type": "code",
   "execution_count": 31,
   "metadata": {
    "ExecuteTime": {
     "end_time": "2020-07-21T15:52:08.035299Z",
     "start_time": "2020-07-21T15:52:08.024967Z"
    }
   },
   "outputs": [
    {
     "data": {
      "text/plain": [
       "array([[  1.9,   6.9,  -8.3,  -3. ],\n",
       "       [ 19.8, -32. ,  14.5, -32.8],\n",
       "       [-18.4, -22.5,  40.6,  33.1]])"
      ]
     },
     "execution_count": 31,
     "metadata": {},
     "output_type": "execute_result"
    },
    {
     "data": {
      "text/plain": [
       "array([  1.,  16., -12.])"
      ]
     },
     "execution_count": 31,
     "metadata": {},
     "output_type": "execute_result"
    }
   ],
   "source": [
    "# w\n",
    "ppn.coef_\n",
    "\n",
    "# b\n",
    "ppn.intercept_"
   ]
  }
 ],
 "metadata": {
  "kernelspec": {
   "display_name": "Python 3",
   "language": "python",
   "name": "python3"
  },
  "language_info": {
   "codemirror_mode": {
    "name": "ipython",
    "version": 3
   },
   "file_extension": ".py",
   "mimetype": "text/x-python",
   "name": "python",
   "nbconvert_exporter": "python",
   "pygments_lexer": "ipython3",
   "version": "3.7.6"
  },
  "toc": {
   "base_numbering": 1,
   "nav_menu": {},
   "number_sections": true,
   "sideBar": true,
   "skip_h1_title": false,
   "title_cell": "Table of Contents",
   "title_sidebar": "Contents",
   "toc_cell": false,
   "toc_position": {
    "height": "calc(100% - 180px)",
    "left": "10px",
    "top": "150px",
    "width": "241.043px"
   },
   "toc_section_display": true,
   "toc_window_display": true
  }
 },
 "nbformat": 4,
 "nbformat_minor": 4
}
